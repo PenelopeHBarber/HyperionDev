{
 "cells": [
  {
   "cell_type": "code",
   "execution_count": 1,
   "metadata": {},
   "outputs": [],
   "source": [
    "#International Book Numbers"
   ]
  },
  {
   "cell_type": "code",
   "execution_count": 2,
   "metadata": {},
   "outputs": [
    {
     "name": "stdout",
     "output_type": "stream",
     "text": [
      "1234567891234  Invalid ISBN13\n"
     ]
    }
   ],
   "source": [
    "def check13(number):\n",
    "    result = 0\n",
    "    for i in range(0,13):\n",
    "        if i%2==0:\n",
    "            result += int(number[i])*1\n",
    "        else:\n",
    "            result += int(number[i])*3\n",
    "    if result%10==0:\n",
    "        print(number, \" Valid ISBN13\")\n",
    "    else: \n",
    "        print(number, \" Invalid ISBN13\")    \n",
    "\n",
    "check13(\"1234567891234\")\n"
   ]
  },
  {
   "cell_type": "code",
   "execution_count": 4,
   "metadata": {},
   "outputs": [],
   "source": [
    "def check10(number):\n",
    "    result = 0\n",
    "    for i in range(0,10):\n",
    "        #CHECK IF THE LAST DIGIT IS AN X AND CHANGE THE VALUE TO 10\n",
    "        if str.lower(number[i])==\"x\":\n",
    "            result+= 10*(10-i)\n",
    "        else:\n",
    "            result += int(number[i])*(10-i)\n",
    "    \n",
    "    #CHECK IF RESULT IS DIVISIBLE BY 11\n",
    "    if result % 11 == 0:\n",
    "        print(number, \"   valid ISBN10 now convert to 13\")\n",
    "    else:\n",
    "        print(number, \"   Invalid ISBN10\")"
   ]
  },
  {
   "cell_type": "code",
   "execution_count": 18,
   "metadata": {},
   "outputs": [
    {
     "name": "stdout",
     "output_type": "stream",
     "text": [
      "convert: 9780552128481\n",
      "118: 9780552128481\n",
      "8 2\n"
     ]
    },
    {
     "ename": "TypeError",
     "evalue": "unsupported operand type(s) for -: 'int' and 'str'",
     "output_type": "error",
     "traceback": [
      "\u001b[1;31m---------------------------------------------------------------------------\u001b[0m",
      "\u001b[1;31mTypeError\u001b[0m                                 Traceback (most recent call last)",
      "\u001b[1;32m<ipython-input-18-b0a2714c2701>\u001b[0m in \u001b[0;36m<module>\u001b[1;34m\u001b[0m\n\u001b[0;32m     17\u001b[0m     \u001b[1;31m#then change last digit so that the remainder of result is 0\u001b[0m\u001b[1;33m\u001b[0m\u001b[1;33m\u001b[0m\u001b[1;33m\u001b[0m\u001b[0m\n\u001b[0;32m     18\u001b[0m \u001b[1;33m\u001b[0m\u001b[0m\n\u001b[1;32m---> 19\u001b[1;33m \u001b[0mconvert13\u001b[0m\u001b[1;33m(\u001b[0m\u001b[1;34m\"0552128481\"\u001b[0m\u001b[1;33m)\u001b[0m\u001b[1;33m\u001b[0m\u001b[1;33m\u001b[0m\u001b[0m\n\u001b[0m",
      "\u001b[1;32m<ipython-input-18-b0a2714c2701>\u001b[0m in \u001b[0;36mconvert13\u001b[1;34m(number)\u001b[0m\n\u001b[0;32m     11\u001b[0m     \u001b[0mprint\u001b[0m\u001b[1;33m(\u001b[0m\u001b[1;34mf\"{result}: {convert}\"\u001b[0m\u001b[1;33m)\u001b[0m\u001b[1;33m\u001b[0m\u001b[1;33m\u001b[0m\u001b[0m\n\u001b[0;32m     12\u001b[0m     \u001b[0mprint\u001b[0m\u001b[1;33m(\u001b[0m\u001b[0mresult\u001b[0m\u001b[1;33m%\u001b[0m\u001b[1;36m10\u001b[0m\u001b[1;33m,\u001b[0m \u001b[1;36m10\u001b[0m\u001b[1;33m-\u001b[0m\u001b[0mresult\u001b[0m\u001b[1;33m%\u001b[0m\u001b[1;36m10\u001b[0m\u001b[1;33m)\u001b[0m\u001b[1;33m\u001b[0m\u001b[1;33m\u001b[0m\u001b[0m\n\u001b[1;32m---> 13\u001b[1;33m     \u001b[1;32mif\u001b[0m \u001b[1;33m(\u001b[0m\u001b[0mresult\u001b[0m\u001b[1;33m%\u001b[0m\u001b[1;36m10\u001b[0m\u001b[1;33m-\u001b[0m\u001b[0mconvert\u001b[0m\u001b[1;33m[\u001b[0m\u001b[1;33m-\u001b[0m\u001b[1;36m1\u001b[0m\u001b[1;33m]\u001b[0m\u001b[1;33m)\u001b[0m \u001b[1;33m>\u001b[0m \u001b[1;36m0\u001b[0m\u001b[1;33m:\u001b[0m\u001b[1;33m\u001b[0m\u001b[1;33m\u001b[0m\u001b[0m\n\u001b[0m\u001b[0;32m     14\u001b[0m         \u001b[0mprint\u001b[0m\u001b[1;33m(\u001b[0m\u001b[0mconvert\u001b[0m\u001b[1;33m[\u001b[0m\u001b[1;33m-\u001b[0m\u001b[1;36m1\u001b[0m\u001b[1;33m]\u001b[0m\u001b[1;33m)\u001b[0m\u001b[1;33m\u001b[0m\u001b[1;33m\u001b[0m\u001b[0m\n\u001b[0;32m     15\u001b[0m     \u001b[1;32melse\u001b[0m\u001b[1;33m:\u001b[0m\u001b[1;33m\u001b[0m\u001b[1;33m\u001b[0m\u001b[0m\n",
      "\u001b[1;31mTypeError\u001b[0m: unsupported operand type(s) for -: 'int' and 'str'"
     ]
    }
   ],
   "source": [
    "def convert13(number):\n",
    "    #CONVERT NUMBER TO 13 DIGITS\n",
    "    result = 0\n",
    "    convert = \"978\"+ number\n",
    "    print(f\"convert: {convert}\")\n",
    "    \n",
    "    for i in range(0,13):\n",
    "        if i%2==0:\n",
    "            result += int(convert[i])*1\n",
    "        else:\n",
    "            result += int(convert[i])*3\n",
    "    print(f\"{result}: {convert}\")\n",
    "    print(result%10, 10-result%10)\n",
    "    if (result%10-convert[-1]) > 0:\n",
    "        print(convert[-1])\n",
    "    else:\n",
    "        print(\"idk\")\n",
    "    #then change last digit so that the remainder of result is 0\n",
    "    \n",
    "convert13(\"0552128481\")"
   ]
  },
  {
   "cell_type": "code",
   "execution_count": null,
   "metadata": {},
   "outputs": [],
   "source": [
    "def isbn13(number):\n",
    "    if len(number)>10:\n",
    "        check13(number)\n",
    "    else:\n",
    "        #if check 10 is valid, convert to 13 and return value\n",
    "        check10(number)\n",
    "\n",
    "isbn13(\"9780316066525\")\n",
    "isbn13(\"9780316066526\")\n",
    "isbn13(\"033030162X\")\n",
    "isbn13(\"0330301624\")\n"
   ]
  },
  {
   "cell_type": "code",
   "execution_count": null,
   "metadata": {},
   "outputs": [],
   "source": [
    "#if > 10\n",
    "#check 13\n",
    "#valid / invalid\n",
    "#check 10\n",
    "#valid\n",
    "#convert13"
   ]
  },
  {
   "cell_type": "code",
   "execution_count": null,
   "metadata": {},
   "outputs": [],
   "source": []
  },
  {
   "cell_type": "code",
   "execution_count": null,
   "metadata": {},
   "outputs": [],
   "source": []
  }
 ],
 "metadata": {
  "kernelspec": {
   "display_name": "Python 3",
   "language": "python",
   "name": "python3"
  },
  "language_info": {
   "codemirror_mode": {
    "name": "ipython",
    "version": 3
   },
   "file_extension": ".py",
   "mimetype": "text/x-python",
   "name": "python",
   "nbconvert_exporter": "python",
   "pygments_lexer": "ipython3",
   "version": "3.7.4"
  }
 },
 "nbformat": 4,
 "nbformat_minor": 2
}
