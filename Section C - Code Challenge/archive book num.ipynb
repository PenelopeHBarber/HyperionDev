{
 "cells": [
  {
   "cell_type": "code",
   "execution_count": null,
   "metadata": {},
   "outputs": [],
   "source": [
    "#CHECK13\n",
    "number = \"9849780316066525\"\n",
    "result = 0\n",
    "\n",
    "for i in range(0,13):\n",
    "    if i%2==0:\n",
    "        result += int(number[i])*1\n",
    "        print(i, number[i], int(number[i])*1)\n",
    "    else: \n",
    "        result += int(number[i])*3\n",
    "        print(i, number[i], int(number[i])*3)\n",
    "print(result, result%10)\n",
    "if result%10==0:\n",
    "    print(\"Valid\")\n",
    "else: \n",
    "    print(\"Invalid\")\n"
   ]
  },
  {
   "cell_type": "code",
   "execution_count": null,
   "metadata": {},
   "outputs": [],
   "source": [
    "#CHECK 10\n",
    "number = \"0330301624\"\n",
    "result = 0\n",
    "\n",
    "for i in range(0,10):\n",
    "    print(i, int(number[i]), (10-i), int(no[i])*(10-i))\n",
    "    result += int(number[i])*(10-i)\n",
    "\n",
    "print(result)\n",
    "if result % 11 == 0:\n",
    "    print(\"valid\")\n",
    "else:\n",
    "    print(\"Invalid\")"
   ]
  },
  {
   "cell_type": "code",
   "execution_count": null,
   "metadata": {},
   "outputs": [],
   "source": [
    "#CONVERT TO 13\n",
    "number = \"0330301625\"\n",
    "new_num = \"984\"+number\n",
    "print(new_num)\n",
    "new_num=int(new_num)\n",
    "print(new_num%10)"
   ]
  },
  {
   "cell_type": "code",
   "execution_count": null,
   "metadata": {},
   "outputs": [],
   "source": []
  },
  {
   "cell_type": "code",
   "execution_count": null,
   "metadata": {},
   "outputs": [],
   "source": []
  }
 ],
 "metadata": {
  "kernelspec": {
   "display_name": "Python 3",
   "language": "python",
   "name": "python3"
  },
  "language_info": {
   "codemirror_mode": {
    "name": "ipython",
    "version": 3
   },
   "file_extension": ".py",
   "mimetype": "text/x-python",
   "name": "python",
   "nbconvert_exporter": "python",
   "pygments_lexer": "ipython3",
   "version": "3.7.4"
  }
 },
 "nbformat": 4,
 "nbformat_minor": 2
}
