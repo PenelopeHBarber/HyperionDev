{
 "cells": [
  {
   "cell_type": "code",
   "execution_count": 1,
   "metadata": {},
   "outputs": [],
   "source": [
    "###################################################################################################"
   ]
  },
  {
   "cell_type": "code",
   "execution_count": 2,
   "metadata": {},
   "outputs": [],
   "source": [
    "#Environment:\n",
    "#pip install Notebook\n",
    "#Python 3 Jupyter Notebook \n",
    "#Windows 10"
   ]
  },
  {
   "cell_type": "code",
   "execution_count": 3,
   "metadata": {},
   "outputs": [],
   "source": [
    "#import packages\n",
    "import pandas as pd\n",
    "import numpy as np\n",
    "from sklearn.impute import SimpleImputer\n",
    "from pandas.api.types import is_string_dtype\n",
    "from pandas.api.types import is_numeric_dtype\n",
    "from sklearn.preprocessing import OrdinalEncoder"
   ]
  },
  {
   "cell_type": "code",
   "execution_count": 4,
   "metadata": {},
   "outputs": [],
   "source": [
    "#acronyms used to save typeing time:\n",
    "#Health Faciltiy Assessment = hfa\n",
    "#Master Health Facility = mhf"
   ]
  },
  {
   "cell_type": "code",
   "execution_count": 5,
   "metadata": {},
   "outputs": [],
   "source": [
    "#file path for files\n",
    "#NB: ASSESSOR NEEDS TO SPECIFY THEIR OWN FILE PATH\n",
    "\n",
    "hfa_file_path = r'C:\\\\Users\\\\Penelope\\\\Documents\\\\ASSIGNMENT\\\\Health Facility Assessment.xlsx'\n",
    "mhf_file_path = r'C:\\\\Users\\\\Penelope\\\\Documents\\\\ASSIGNMENT\\\\Master Health Facility.xlsx'"
   ]
  },
  {
   "cell_type": "code",
   "execution_count": 6,
   "metadata": {},
   "outputs": [],
   "source": [
    "#read files\n",
    "\n",
    "hfa = pd.read_excel (hfa_file_path)\n",
    "mhf = pd.read_excel (mhf_file_path)"
   ]
  },
  {
   "cell_type": "code",
   "execution_count": 7,
   "metadata": {},
   "outputs": [],
   "source": [
    "#inspect dataframe\n",
    "#hfa.head(6)"
   ]
  },
  {
   "cell_type": "code",
   "execution_count": 8,
   "metadata": {},
   "outputs": [],
   "source": [
    "#inspect dataframe\n",
    "#mhf.head(6)"
   ]
  },
  {
   "cell_type": "code",
   "execution_count": 9,
   "metadata": {},
   "outputs": [
    {
     "name": "stdout",
     "output_type": "stream",
     "text": [
      "<class 'pandas.core.frame.DataFrame'>\n",
      "RangeIndex: 145 entries, 0 to 144\n",
      "Columns: 205 entries, Unnamed: 0 to form.score_max_total\n",
      "dtypes: float64(2), int64(2), object(201)\n",
      "memory usage: 232.4+ KB\n"
     ]
    }
   ],
   "source": [
    "#check column types\n",
    "hfa.info()\n",
    "#flaot 2 int 2 object 201"
   ]
  },
  {
   "cell_type": "code",
   "execution_count": 10,
   "metadata": {},
   "outputs": [],
   "source": [
    "#from inspection there are more than 4 columns with numerical data"
   ]
  },
  {
   "cell_type": "code",
   "execution_count": 11,
   "metadata": {
    "scrolled": true
   },
   "outputs": [
    {
     "data": {
      "text/plain": [
       "Unnamed: 0                                                                              0\n",
       "number                                                                                  0\n",
       "form.health_centre_information.facility_name                                            0\n",
       "form.facility_gps                                                                       0\n",
       "form.health_centre_information.location_information.region_province                     0\n",
       "                                                                                       ..\n",
       "form.grp_infection_prevention_and_control.score_max_infection_prevention_and_control    0\n",
       "form.question1.score_logistics_patient_and_sample_transfer                              0\n",
       "form.question1.score_max_logistics_patient_and_sample_transfer                          0\n",
       "form.score_total                                                                        3\n",
       "form.score_max_total                                                                    3\n",
       "Length: 205, dtype: int64"
      ]
     },
     "execution_count": 11,
     "metadata": {},
     "output_type": "execute_result"
    }
   ],
   "source": [
    "#check for null values\n",
    "hfa.isnull().sum()\n"
   ]
  },
  {
   "cell_type": "code",
   "execution_count": 12,
   "metadata": {},
   "outputs": [
    {
     "data": {
      "text/plain": [
       "['form.score_total', 'form.score_max_total']"
      ]
     },
     "execution_count": 12,
     "metadata": {},
     "output_type": "execute_result"
    }
   ],
   "source": [
    "#LIST OF COLUMNS\n",
    "cols = hfa.columns.to_list()\n",
    "#print(cols)\n",
    "cols[-2:]"
   ]
  },
  {
   "cell_type": "code",
   "execution_count": 13,
   "metadata": {},
   "outputs": [
    {
     "data": {
      "text/plain": [
       "['form.score_total', 'form.score_max_total']"
      ]
     },
     "execution_count": 13,
     "metadata": {},
     "output_type": "execute_result"
    }
   ],
   "source": [
    "last_two_cols = cols[-2:]\n",
    "last_two_cols"
   ]
  },
  {
   "cell_type": "code",
   "execution_count": 14,
   "metadata": {},
   "outputs": [],
   "source": [
    "#fill in missing values in last 2 columns \n",
    "hfa.loc[:,last_two_cols] = hfa.loc[:,last_two_cols].ffill(axis=\"rows\")\n",
    "\n",
    "#filling in rows with values is not ideal. I would prefer to understand how the form_score_total \n",
    "#and form.score_max_total were summed and impute the sum"
   ]
  },
  {
   "cell_type": "code",
   "execution_count": 15,
   "metadata": {},
   "outputs": [],
   "source": [
    "hfa['form.score_percent'] = hfa['form.score_total'] / hfa['form.score_max_total'] *100"
   ]
  },
  {
   "cell_type": "code",
   "execution_count": 16,
   "metadata": {},
   "outputs": [],
   "source": [
    "#drop rows with missing values in the last two columns\n",
    "#dropping rows is not ideal but it's only 3 rows\n",
    "#hfa = hfa.dropna(axis='index', how='any', subset = ['form.score_max_total', 'form.score_total'])\n",
    "\n",
    "#THESE MISSING VALUES SHOULD BE CALCULATED BUT i'M NOT SURE HOW THEY WERE DERIVED"
   ]
  },
  {
   "cell_type": "code",
   "execution_count": 17,
   "metadata": {},
   "outputs": [],
   "source": [
    "#REPLACE \"---\" WITH \"\"\n",
    "\n",
    "for col in cols:\n",
    "    hfa[col] = hfa[col].astype('str')\n",
    "    hfa[col] = hfa[col].str.replace(\"---\", \"\")\n",
    "    hfa[col] = pd.to_numeric(hfa[col], errors='ignore')"
   ]
  },
  {
   "cell_type": "code",
   "execution_count": 18,
   "metadata": {},
   "outputs": [],
   "source": [
    "def replace(column,old_str, new_str):\n",
    "    hfa[column] = hfa[column].astype('str')\n",
    "    hfa[column] = hfa[column].str.replace(old_str, new_str)\n",
    "    hfa[column] = pd.to_numeric(hfa[column], errors='ignore')"
   ]
  },
  {
   "cell_type": "code",
   "execution_count": 19,
   "metadata": {},
   "outputs": [
    {
     "name": "stdout",
     "output_type": "stream",
     "text": [
      "<class 'pandas.core.frame.DataFrame'>\n",
      "RangeIndex: 145 entries, 0 to 144\n",
      "Columns: 206 entries, Unnamed: 0 to form.score_percent\n",
      "dtypes: float64(71), int64(2), object(133)\n",
      "memory usage: 233.5+ KB\n"
     ]
    }
   ],
   "source": [
    "hfa.info()\n",
    "#I did a manual check on the Excel list using ISNUMBER()\n",
    "#and there are indeed 72 columns with numerical data \n",
    "#so this is now showing correctly"
   ]
  },
  {
   "cell_type": "code",
   "execution_count": 20,
   "metadata": {},
   "outputs": [
    {
     "data": {
      "text/plain": [
       "[0,\n",
       " 0,\n",
       " 0,\n",
       " 0,\n",
       " 0,\n",
       " 0,\n",
       " 0,\n",
       " 0,\n",
       " 0,\n",
       " 145,\n",
       " 0,\n",
       " 0,\n",
       " 0,\n",
       " 0,\n",
       " 2,\n",
       " 2,\n",
       " 2,\n",
       " 2,\n",
       " 2,\n",
       " 2,\n",
       " 2,\n",
       " 2,\n",
       " 2,\n",
       " 2,\n",
       " 2,\n",
       " 2,\n",
       " 2,\n",
       " 2,\n",
       " 2,\n",
       " 2,\n",
       " 2,\n",
       " 2,\n",
       " 2,\n",
       " 2,\n",
       " 2,\n",
       " 0,\n",
       " 0,\n",
       " 8,\n",
       " 8,\n",
       " 8,\n",
       " 8,\n",
       " 8,\n",
       " 8,\n",
       " 8,\n",
       " 8,\n",
       " 8,\n",
       " 8,\n",
       " 8,\n",
       " 8,\n",
       " 8,\n",
       " 8,\n",
       " 8,\n",
       " 8,\n",
       " 0,\n",
       " 0,\n",
       " 0,\n",
       " 0,\n",
       " 0,\n",
       " 0,\n",
       " 0,\n",
       " 0,\n",
       " 0,\n",
       " 0,\n",
       " 0,\n",
       " 0,\n",
       " 0,\n",
       " 0,\n",
       " 0,\n",
       " 0,\n",
       " 0,\n",
       " 0,\n",
       " 0,\n",
       " 0,\n",
       " 0,\n",
       " 0,\n",
       " 0,\n",
       " 0,\n",
       " 0,\n",
       " 0,\n",
       " 0,\n",
       " 0,\n",
       " 0,\n",
       " 0,\n",
       " 0,\n",
       " 0,\n",
       " 0,\n",
       " 0,\n",
       " 0,\n",
       " 0,\n",
       " 0,\n",
       " 0,\n",
       " 0,\n",
       " 0,\n",
       " 0,\n",
       " 0,\n",
       " 0,\n",
       " 0,\n",
       " 0,\n",
       " 0,\n",
       " 0,\n",
       " 0,\n",
       " 0,\n",
       " 0,\n",
       " 0,\n",
       " 0,\n",
       " 0,\n",
       " 0,\n",
       " 0,\n",
       " 0,\n",
       " 0,\n",
       " 0,\n",
       " 0,\n",
       " 0,\n",
       " 0,\n",
       " 0,\n",
       " 0,\n",
       " 0,\n",
       " 0,\n",
       " 0,\n",
       " 0,\n",
       " 0,\n",
       " 0,\n",
       " 0,\n",
       " 0,\n",
       " 0,\n",
       " 0,\n",
       " 0,\n",
       " 0,\n",
       " 0,\n",
       " 0,\n",
       " 0,\n",
       " 0,\n",
       " 0,\n",
       " 0,\n",
       " 0,\n",
       " 0,\n",
       " 0,\n",
       " 0,\n",
       " 0,\n",
       " 0,\n",
       " 0,\n",
       " 0,\n",
       " 0,\n",
       " 0,\n",
       " 0,\n",
       " 0,\n",
       " 0,\n",
       " 0,\n",
       " 0,\n",
       " 0,\n",
       " 0,\n",
       " 0,\n",
       " 0,\n",
       " 0,\n",
       " 0,\n",
       " 0,\n",
       " 0,\n",
       " 0,\n",
       " 0,\n",
       " 0,\n",
       " 0,\n",
       " 0,\n",
       " 0,\n",
       " 0,\n",
       " 0,\n",
       " 0,\n",
       " 0,\n",
       " 0,\n",
       " 0,\n",
       " 0,\n",
       " 0,\n",
       " 0,\n",
       " 0,\n",
       " 8,\n",
       " 8,\n",
       " 8,\n",
       " 8,\n",
       " 11,\n",
       " 11,\n",
       " 16,\n",
       " 16,\n",
       " 15,\n",
       " 15,\n",
       " 13,\n",
       " 13,\n",
       " 13,\n",
       " 15,\n",
       " 13,\n",
       " 13,\n",
       " 18,\n",
       " 18,\n",
       " 18,\n",
       " 18,\n",
       " 18,\n",
       " 18,\n",
       " 18,\n",
       " 18,\n",
       " 18,\n",
       " 18,\n",
       " 18,\n",
       " 18,\n",
       " 20,\n",
       " 20,\n",
       " 0,\n",
       " 0,\n",
       " 6]"
      ]
     },
     "execution_count": 20,
     "metadata": {},
     "output_type": "execute_result"
    }
   ],
   "source": [
    "#check for completely blank columns\n",
    "list_of_null = hfa.isnull().sum().to_list()\n",
    "list_of_null\n"
   ]
  },
  {
   "cell_type": "code",
   "execution_count": 21,
   "metadata": {},
   "outputs": [],
   "source": [
    "hfa = hfa.dropna(axis='columns', how='all')"
   ]
  },
  {
   "cell_type": "code",
   "execution_count": 22,
   "metadata": {},
   "outputs": [
    {
     "name": "stdout",
     "output_type": "stream",
     "text": [
      "<class 'pandas.core.frame.DataFrame'>\n",
      "RangeIndex: 145 entries, 0 to 144\n",
      "Columns: 205 entries, Unnamed: 0 to form.score_percent\n",
      "dtypes: float64(70), int64(2), object(133)\n",
      "memory usage: 232.4+ KB\n"
     ]
    }
   ],
   "source": [
    "hfa.info()"
   ]
  },
  {
   "cell_type": "code",
   "execution_count": 23,
   "metadata": {},
   "outputs": [],
   "source": [
    "#redefine list of columns after dropping one of them\n",
    "cols = hfa.columns.to_list()"
   ]
  },
  {
   "cell_type": "code",
   "execution_count": 24,
   "metadata": {},
   "outputs": [],
   "source": [
    "hfa.to_excel('C:\\\\Users\\\\Penelope\\\\Documents\\\\ASSIGNMENT\\\\Health Facility Assessment strip.xlsx')"
   ]
  },
  {
   "cell_type": "code",
   "execution_count": 25,
   "metadata": {},
   "outputs": [],
   "source": [
    "#last col has 6 null values!\n",
    "hfa['form.score_percent'] = hfa['form.score_percent'].astype('str')\n",
    "hfa['form.score_percent'] = hfa['form.score_percent'].str.replace(\"nan\", \"0\")\n",
    "hfa['form.score_percent'] = pd.to_numeric(hfa['form.score_percent'], errors='ignore')\n"
   ]
  },
  {
   "cell_type": "code",
   "execution_count": 26,
   "metadata": {},
   "outputs": [],
   "source": [
    "#get list of which columns are numeric\n",
    "num_col_list = []\n",
    "for col in cols:\n",
    "    is_num = is_numeric_dtype(hfa[col])\n",
    "    if is_num == True:\n",
    "        num_col_list.append(col)\n"
   ]
  },
  {
   "cell_type": "code",
   "execution_count": 27,
   "metadata": {},
   "outputs": [
    {
     "name": "stdout",
     "output_type": "stream",
     "text": [
      "72\n",
      "['Unnamed: 0', 'number', 'form.health_centre_information.capacity.number_consultation_rooms', 'form.health_centre_information.capacity.number_inpatient_beds', 'form.health_centre_information.capacity.number_maternity_beds', 'form.health_centre_information.group_number_employed.list_community_health_officer.cho_number_in_post']\n"
     ]
    }
   ],
   "source": [
    "#check the list: length and first few columns\n",
    "print(len(num_col_list))\n",
    "print(num_col_list[0:6])\n"
   ]
  },
  {
   "cell_type": "code",
   "execution_count": 28,
   "metadata": {},
   "outputs": [],
   "source": [
    "#get list of which columns are non categorical\n",
    "cat_col_list = []\n",
    "for col in cols:\n",
    "    is_cat = is_string_dtype(hfa[col])\n",
    "    if is_cat == True:\n",
    "        cat_col_list.append(col)"
   ]
  },
  {
   "cell_type": "code",
   "execution_count": 29,
   "metadata": {},
   "outputs": [
    {
     "name": "stdout",
     "output_type": "stream",
     "text": [
      "133\n",
      "['form.health_centre_information.facility_name', 'form.facility_gps', 'form.health_centre_information.location_information.region_province', 'form.health_centre_information.location_information.district', 'form.health_centre_information.location_information.chiefdom', 'form.health_centre_information.location_information.facility_location']\n",
      "['form.question1.log_misoprostol', 'form.question1.log_glucose']\n"
     ]
    }
   ],
   "source": [
    "#check the list worked: length and first few columns\n",
    "print(len(cat_col_list))\n",
    "print(cat_col_list[0:6])\n",
    "print(cat_col_list[-2:])\n"
   ]
  },
  {
   "cell_type": "code",
   "execution_count": 30,
   "metadata": {},
   "outputs": [],
   "source": [
    "####################################################################################################3"
   ]
  },
  {
   "cell_type": "code",
   "execution_count": 31,
   "metadata": {},
   "outputs": [],
   "source": [
    "#from inspection there are inconsistent values in region and district"
   ]
  },
  {
   "cell_type": "code",
   "execution_count": 32,
   "metadata": {},
   "outputs": [
    {
     "data": {
      "text/plain": [
       "                    2\n",
       "Eastern            25\n",
       "North-Western      25\n",
       "Northern           25\n",
       "Northern Region     1\n",
       "Nothern            10\n",
       "Place               1\n",
       "Southern           37\n",
       "Western            12\n",
       "Western Area        7\n",
       "Name: form.health_centre_information.location_information.region_province, dtype: int64"
      ]
     },
     "execution_count": 32,
     "metadata": {},
     "output_type": "execute_result"
    }
   ],
   "source": [
    "hfa['form.health_centre_information.location_information.region_province'].value_counts().sort_index()\n"
   ]
  },
  {
   "cell_type": "markdown",
   "metadata": {},
   "source": [
    "Provinces of Sierra Leone | Mappr\n",
    "https://www.mappr.co › Counties and Regions Maps\n",
    "\n",
    "Eastern Province, \n",
    "Northern Province, \n",
    "North West Province, \n",
    "Southern Province, \n",
    "Western Area\n",
    "\n"
   ]
  },
  {
   "cell_type": "code",
   "execution_count": 33,
   "metadata": {},
   "outputs": [],
   "source": [
    "column = 'form.health_centre_information.location_information.region_province' \n",
    "replace(column, \"Northern Region\", \"Northern\")\n",
    "replace(column, \"Northern\", \"Northern Province\")\n",
    "replace(column, \"Nothern\", \"Northern Province\")\n",
    "replace(column, \"North-Western\", \"North West Province\")\n",
    "replace(column, \"Western Area\", \"Western\")\n",
    "replace(column, \"Western\", \"Western Area\")\n",
    "replace(column, \"Place\", \"\")\n",
    "replace(column, \"Eastern\", \"Eastern Province\")\n",
    "replace(column, \"Southern\", \"Southern Province\")\n",
    "\n",
    "\n"
   ]
  },
  {
   "cell_type": "code",
   "execution_count": 34,
   "metadata": {},
   "outputs": [
    {
     "data": {
      "text/plain": [
       "                        3\n",
       "Eastern Province       25\n",
       "North West Province    25\n",
       "Northern Province      36\n",
       "Southern Province      37\n",
       "Western Area           19\n",
       "Name: form.health_centre_information.location_information.region_province, dtype: int64"
      ]
     },
     "execution_count": 34,
     "metadata": {},
     "output_type": "execute_result"
    }
   ],
   "source": [
    "hfa['form.health_centre_information.location_information.region_province'].value_counts().sort_index()\n"
   ]
  },
  {
   "cell_type": "code",
   "execution_count": 47,
   "metadata": {},
   "outputs": [
    {
     "data": {
      "text/plain": [
       "                       2\n",
       "Bo                    12\n",
       "Bombali               10\n",
       "Bonthe                 9\n",
       "District               1\n",
       "Falaba                 8\n",
       "Kailahun               8\n",
       "Kambia                 8\n",
       "Karene                 8\n",
       "Kenema                 9\n",
       "Koinadugu             10\n",
       "Kono                   8\n",
       "Moyamba                8\n",
       "Port Loko              9\n",
       "Pujehun                8\n",
       "Tonkolili              8\n",
       "Western Area Rural     8\n",
       "Western Area Urban     7\n",
       "western Area Urban     4\n",
       "Name: form.health_centre_information.location_information.district, dtype: int64"
      ]
     },
     "execution_count": 47,
     "metadata": {},
     "output_type": "execute_result"
    }
   ],
   "source": [
    "hfa['form.health_centre_information.location_information.district'].value_counts().sort_index()"
   ]
  },
  {
   "cell_type": "markdown",
   "metadata": {},
   "source": [
    "Districts of Sierra Leone\n",
    "https://en.wikipedia.org/wiki/Districts_of_Sierra_Leone\n",
    "\n",
    "Bo, \n",
    "Bombali, \n",
    "Bonthe, \n",
    "Falaba, \n",
    "Kailahun, \n",
    "Kambia, \n",
    "Karene, \n",
    "Kenema, \n",
    "Koinadugu, \n",
    "Kono, \n",
    "Moyamba, \n",
    "Port Loko, \n",
    "Pujehun, \n",
    "Tonkolili, \n",
    "Western Rural, \n",
    "Western Urban\n"
   ]
  },
  {
   "cell_type": "code",
   "execution_count": 48,
   "metadata": {},
   "outputs": [],
   "source": [
    "column = 'form.health_centre_information.location_information.district'"
   ]
  },
  {
   "cell_type": "code",
   "execution_count": 49,
   "metadata": {},
   "outputs": [],
   "source": [
    "replace(column, \"western Area Urban\", \"Western Area Urban\")\n",
    "replace(column, \"District\", \"\")"
   ]
  },
  {
   "cell_type": "code",
   "execution_count": 50,
   "metadata": {},
   "outputs": [
    {
     "data": {
      "text/plain": [
       "                       3\n",
       "Bo                    12\n",
       "Bombali               10\n",
       "Bonthe                 9\n",
       "Falaba                 8\n",
       "Kailahun               8\n",
       "Kambia                 8\n",
       "Karene                 8\n",
       "Kenema                 9\n",
       "Koinadugu             10\n",
       "Kono                   8\n",
       "Moyamba                8\n",
       "Port Loko              9\n",
       "Pujehun                8\n",
       "Tonkolili              8\n",
       "Western Area Rural     8\n",
       "Western Area Urban    11\n",
       "Name: form.health_centre_information.location_information.district, dtype: int64"
      ]
     },
     "execution_count": 50,
     "metadata": {},
     "output_type": "execute_result"
    }
   ],
   "source": [
    "hfa['form.health_centre_information.location_information.district'].value_counts().sort_index()"
   ]
  },
  {
   "cell_type": "code",
   "execution_count": 36,
   "metadata": {},
   "outputs": [],
   "source": [
    "hfa.to_excel('C:\\\\Users\\\\Penelope\\\\Documents\\\\ASSIGNMENT\\\\Health Facility Assessment strip.xlsx')"
   ]
  },
  {
   "cell_type": "code",
   "execution_count": null,
   "metadata": {},
   "outputs": [],
   "source": []
  },
  {
   "cell_type": "code",
   "execution_count": null,
   "metadata": {},
   "outputs": [],
   "source": []
  },
  {
   "cell_type": "code",
   "execution_count": null,
   "metadata": {},
   "outputs": [],
   "source": []
  },
  {
   "cell_type": "code",
   "execution_count": null,
   "metadata": {},
   "outputs": [],
   "source": [
    "#have to run earlier stuff again to get rid of blanks created here"
   ]
  },
  {
   "cell_type": "code",
   "execution_count": 37,
   "metadata": {},
   "outputs": [],
   "source": [
    "###################################################################################################"
   ]
  },
  {
   "cell_type": "code",
   "execution_count": 38,
   "metadata": {},
   "outputs": [],
   "source": [
    "#categorical data"
   ]
  },
  {
   "cell_type": "code",
   "execution_count": 39,
   "metadata": {},
   "outputs": [],
   "source": [
    "#ordinal_encoder = OrdinalEncoder()"
   ]
  },
  {
   "cell_type": "code",
   "execution_count": 40,
   "metadata": {},
   "outputs": [],
   "source": [
    "#hfa[cat_col_list] = ordinal_encoder.fit_transform(hfa[cat_col_list])"
   ]
  },
  {
   "cell_type": "code",
   "execution_count": 41,
   "metadata": {},
   "outputs": [],
   "source": [
    "#hfa.isnull().sum().sum()"
   ]
  },
  {
   "cell_type": "code",
   "execution_count": 42,
   "metadata": {},
   "outputs": [],
   "source": [
    "#hfa.head()"
   ]
  },
  {
   "cell_type": "code",
   "execution_count": 43,
   "metadata": {},
   "outputs": [],
   "source": [
    "#####################################################################################################"
   ]
  },
  {
   "cell_type": "code",
   "execution_count": 44,
   "metadata": {},
   "outputs": [],
   "source": [
    "# Imputation\n",
    "#my_imputer = SimpleImputer()\n",
    "#imputed_hfa = pd.DataFrame(my_imputer.fit_transform(hfa))"
   ]
  },
  {
   "cell_type": "code",
   "execution_count": 45,
   "metadata": {},
   "outputs": [],
   "source": [
    "#hfa.isnull().sum().sum()"
   ]
  },
  {
   "cell_type": "code",
   "execution_count": 46,
   "metadata": {},
   "outputs": [],
   "source": [
    "#hfa.to_excel('C:\\\\Users\\\\Penelope\\\\Documents\\\\ASSIGNMENT\\\\Health Facility Assessment strip.xlsx')"
   ]
  },
  {
   "cell_type": "code",
   "execution_count": null,
   "metadata": {},
   "outputs": [],
   "source": []
  }
 ],
 "metadata": {
  "kernelspec": {
   "display_name": "Python 3",
   "language": "python",
   "name": "python3"
  },
  "language_info": {
   "codemirror_mode": {
    "name": "ipython",
    "version": 3
   },
   "file_extension": ".py",
   "mimetype": "text/x-python",
   "name": "python",
   "nbconvert_exporter": "python",
   "pygments_lexer": "ipython3",
   "version": "3.7.4"
  }
 },
 "nbformat": 4,
 "nbformat_minor": 2
}
