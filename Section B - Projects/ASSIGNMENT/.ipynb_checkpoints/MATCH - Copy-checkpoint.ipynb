{
 "cells": [
  {
   "cell_type": "code",
   "execution_count": 9,
   "metadata": {},
   "outputs": [],
   "source": [
    "import pandas as pd\n",
    "import numpy as np"
   ]
  },
  {
   "cell_type": "code",
   "execution_count": 4,
   "metadata": {},
   "outputs": [],
   "source": [
    "hfa_file_path = r'C:\\\\Users\\\\Penelope\\\\Documents\\\\ASSIGNMENT\\\\Health Facility Assessment.xlsx'\n"
   ]
  },
  {
   "cell_type": "code",
   "execution_count": 5,
   "metadata": {},
   "outputs": [],
   "source": [
    "hfa = pd.read_excel (hfa_file_path)"
   ]
  },
  {
   "cell_type": "code",
   "execution_count": 7,
   "metadata": {},
   "outputs": [
    {
     "data": {
      "text/html": [
       "<div>\n",
       "<style scoped>\n",
       "    .dataframe tbody tr th:only-of-type {\n",
       "        vertical-align: middle;\n",
       "    }\n",
       "\n",
       "    .dataframe tbody tr th {\n",
       "        vertical-align: top;\n",
       "    }\n",
       "\n",
       "    .dataframe thead th {\n",
       "        text-align: right;\n",
       "    }\n",
       "</style>\n",
       "<table border=\"1\" class=\"dataframe\">\n",
       "  <thead>\n",
       "    <tr style=\"text-align: right;\">\n",
       "      <th></th>\n",
       "      <th>Unnamed: 0</th>\n",
       "      <th>number</th>\n",
       "      <th>form.health_centre_information.facility_name</th>\n",
       "      <th>form.facility_gps</th>\n",
       "      <th>form.health_centre_information.location_information.region_province</th>\n",
       "      <th>form.health_centre_information.location_information.district</th>\n",
       "      <th>form.health_centre_information.location_information.chiefdom</th>\n",
       "      <th>form.health_centre_information.location_information.facility_location</th>\n",
       "      <th>form.health_centre_information.facility_type</th>\n",
       "      <th>form.health_centre_information.facility_type_other</th>\n",
       "      <th>...</th>\n",
       "      <th>form.grp_infection_prevention_and_control.ql_water_sanitation_and_hygiene.score_infection_prevention_and_control_water_sanitation_and_hygiene</th>\n",
       "      <th>form.grp_infection_prevention_and_control.ql_water_sanitation_and_hygiene.score_max_infection_prevention_and_control_water_sanitation_and_hygiene</th>\n",
       "      <th>form.grp_infection_prevention_and_control.ql_disinfection_and_sterilization.score_infection_prevention_and_control_disinfection_and_sterilization</th>\n",
       "      <th>form.grp_infection_prevention_and_control.ql_disinfection_and_sterilization.score_max_infection_prevention_and_control_disinfection_and_sterilization</th>\n",
       "      <th>form.grp_infection_prevention_and_control.score_infection_prevention_and_control</th>\n",
       "      <th>form.grp_infection_prevention_and_control.score_max_infection_prevention_and_control</th>\n",
       "      <th>form.question1.score_logistics_patient_and_sample_transfer</th>\n",
       "      <th>form.question1.score_max_logistics_patient_and_sample_transfer</th>\n",
       "      <th>form.score_total</th>\n",
       "      <th>form.score_max_total</th>\n",
       "    </tr>\n",
       "  </thead>\n",
       "  <tbody>\n",
       "    <tr>\n",
       "      <td>0</td>\n",
       "      <td>0</td>\n",
       "      <td>0</td>\n",
       "      <td>William hospital</td>\n",
       "      <td>60.234598, -90.157892</td>\n",
       "      <td>Southern</td>\n",
       "      <td>Pujehun</td>\n",
       "      <td>New York</td>\n",
       "      <td>Jasonfort</td>\n",
       "      <td>community_health_post</td>\n",
       "      <td>---</td>\n",
       "      <td>...</td>\n",
       "      <td>4</td>\n",
       "      <td>5</td>\n",
       "      <td>1</td>\n",
       "      <td>5</td>\n",
       "      <td>10.5</td>\n",
       "      <td>27</td>\n",
       "      <td>19.5</td>\n",
       "      <td>44</td>\n",
       "      <td>48.5</td>\n",
       "      <td>102.0</td>\n",
       "    </tr>\n",
       "    <tr>\n",
       "      <td>1</td>\n",
       "      <td>1</td>\n",
       "      <td>1</td>\n",
       "      <td>Kathryn Hospital/CHC</td>\n",
       "      <td>21.2454855, -107.509120</td>\n",
       "      <td>Southern</td>\n",
       "      <td>Bo</td>\n",
       "      <td>Arizona</td>\n",
       "      <td>West Jamesshire</td>\n",
       "      <td>community_health_post</td>\n",
       "      <td>---</td>\n",
       "      <td>...</td>\n",
       "      <td>1.5</td>\n",
       "      <td>5</td>\n",
       "      <td>0</td>\n",
       "      <td>5</td>\n",
       "      <td>5.5</td>\n",
       "      <td>27</td>\n",
       "      <td>21</td>\n",
       "      <td>44</td>\n",
       "      <td>35.5</td>\n",
       "      <td>102.0</td>\n",
       "    </tr>\n",
       "    <tr>\n",
       "      <td>2</td>\n",
       "      <td>2</td>\n",
       "      <td>2</td>\n",
       "      <td>Jessica Hospital</td>\n",
       "      <td>-0.178657, -9.190029</td>\n",
       "      <td>Southern</td>\n",
       "      <td>Bo</td>\n",
       "      <td>New Mexico</td>\n",
       "      <td>Robertsside</td>\n",
       "      <td>community_health_post</td>\n",
       "      <td>---</td>\n",
       "      <td>...</td>\n",
       "      <td>2</td>\n",
       "      <td>5</td>\n",
       "      <td>0</td>\n",
       "      <td>5</td>\n",
       "      <td>10</td>\n",
       "      <td>27</td>\n",
       "      <td>33.5</td>\n",
       "      <td>44</td>\n",
       "      <td>55.5</td>\n",
       "      <td>102.0</td>\n",
       "    </tr>\n",
       "    <tr>\n",
       "      <td>3</td>\n",
       "      <td>3</td>\n",
       "      <td>3</td>\n",
       "      <td>Lauren CHC</td>\n",
       "      <td>35.856989, -87.512790</td>\n",
       "      <td>Southern</td>\n",
       "      <td>Bonthe</td>\n",
       "      <td>Missouri</td>\n",
       "      <td>Port Christopher</td>\n",
       "      <td>mch_post</td>\n",
       "      <td>---</td>\n",
       "      <td>...</td>\n",
       "      <td>4</td>\n",
       "      <td>5</td>\n",
       "      <td>2</td>\n",
       "      <td>5</td>\n",
       "      <td>12</td>\n",
       "      <td>27</td>\n",
       "      <td>34.5</td>\n",
       "      <td>44</td>\n",
       "      <td>57.5</td>\n",
       "      <td>102.0</td>\n",
       "    </tr>\n",
       "    <tr>\n",
       "      <td>4</td>\n",
       "      <td>4</td>\n",
       "      <td>4</td>\n",
       "      <td>Tammy CHC</td>\n",
       "      <td>54.7148835, 150.744813</td>\n",
       "      <td>Southern</td>\n",
       "      <td>Bonthe</td>\n",
       "      <td>Virginia</td>\n",
       "      <td>Reneeton</td>\n",
       "      <td>community_health_post</td>\n",
       "      <td>---</td>\n",
       "      <td>...</td>\n",
       "      <td>4</td>\n",
       "      <td>5</td>\n",
       "      <td>3</td>\n",
       "      <td>5</td>\n",
       "      <td>12</td>\n",
       "      <td>27</td>\n",
       "      <td>29.5</td>\n",
       "      <td>44</td>\n",
       "      <td>55.0</td>\n",
       "      <td>102.0</td>\n",
       "    </tr>\n",
       "  </tbody>\n",
       "</table>\n",
       "<p>5 rows × 205 columns</p>\n",
       "</div>"
      ],
      "text/plain": [
       "   Unnamed: 0  number form.health_centre_information.facility_name  \\\n",
       "0           0       0                             William hospital   \n",
       "1           1       1                         Kathryn Hospital/CHC   \n",
       "2           2       2                             Jessica Hospital   \n",
       "3           3       3                                   Lauren CHC   \n",
       "4           4       4                                    Tammy CHC   \n",
       "\n",
       "         form.facility_gps  \\\n",
       "0    60.234598, -90.157892   \n",
       "1  21.2454855, -107.509120   \n",
       "2     -0.178657, -9.190029   \n",
       "3    35.856989, -87.512790   \n",
       "4   54.7148835, 150.744813   \n",
       "\n",
       "  form.health_centre_information.location_information.region_province  \\\n",
       "0                                           Southern                    \n",
       "1                                           Southern                    \n",
       "2                                           Southern                    \n",
       "3                                           Southern                    \n",
       "4                                           Southern                    \n",
       "\n",
       "  form.health_centre_information.location_information.district  \\\n",
       "0                                            Pujehun             \n",
       "1                                                 Bo             \n",
       "2                                                 Bo             \n",
       "3                                             Bonthe             \n",
       "4                                             Bonthe             \n",
       "\n",
       "  form.health_centre_information.location_information.chiefdom  \\\n",
       "0                                           New York             \n",
       "1                                            Arizona             \n",
       "2                                         New Mexico             \n",
       "3                                           Missouri             \n",
       "4                                           Virginia             \n",
       "\n",
       "  form.health_centre_information.location_information.facility_location  \\\n",
       "0                                          Jasonfort                      \n",
       "1                                    West Jamesshire                      \n",
       "2                                        Robertsside                      \n",
       "3                                   Port Christopher                      \n",
       "4                                           Reneeton                      \n",
       "\n",
       "  form.health_centre_information.facility_type  \\\n",
       "0                        community_health_post   \n",
       "1                        community_health_post   \n",
       "2                        community_health_post   \n",
       "3                                     mch_post   \n",
       "4                        community_health_post   \n",
       "\n",
       "  form.health_centre_information.facility_type_other  ...  \\\n",
       "0                                                ---  ...   \n",
       "1                                                ---  ...   \n",
       "2                                                ---  ...   \n",
       "3                                                ---  ...   \n",
       "4                                                ---  ...   \n",
       "\n",
       "  form.grp_infection_prevention_and_control.ql_water_sanitation_and_hygiene.score_infection_prevention_and_control_water_sanitation_and_hygiene  \\\n",
       "0                                                  4                                                                                              \n",
       "1                                                1.5                                                                                              \n",
       "2                                                  2                                                                                              \n",
       "3                                                  4                                                                                              \n",
       "4                                                  4                                                                                              \n",
       "\n",
       "  form.grp_infection_prevention_and_control.ql_water_sanitation_and_hygiene.score_max_infection_prevention_and_control_water_sanitation_and_hygiene  \\\n",
       "0                                                  5                                                                                                  \n",
       "1                                                  5                                                                                                  \n",
       "2                                                  5                                                                                                  \n",
       "3                                                  5                                                                                                  \n",
       "4                                                  5                                                                                                  \n",
       "\n",
       "  form.grp_infection_prevention_and_control.ql_disinfection_and_sterilization.score_infection_prevention_and_control_disinfection_and_sterilization  \\\n",
       "0                                                  1                                                                                                  \n",
       "1                                                  0                                                                                                  \n",
       "2                                                  0                                                                                                  \n",
       "3                                                  2                                                                                                  \n",
       "4                                                  3                                                                                                  \n",
       "\n",
       "  form.grp_infection_prevention_and_control.ql_disinfection_and_sterilization.score_max_infection_prevention_and_control_disinfection_and_sterilization  \\\n",
       "0                                                  5                                                                                                      \n",
       "1                                                  5                                                                                                      \n",
       "2                                                  5                                                                                                      \n",
       "3                                                  5                                                                                                      \n",
       "4                                                  5                                                                                                      \n",
       "\n",
       "  form.grp_infection_prevention_and_control.score_infection_prevention_and_control  \\\n",
       "0                                               10.5                                 \n",
       "1                                                5.5                                 \n",
       "2                                                 10                                 \n",
       "3                                                 12                                 \n",
       "4                                                 12                                 \n",
       "\n",
       "  form.grp_infection_prevention_and_control.score_max_infection_prevention_and_control  \\\n",
       "0                                                 27                                     \n",
       "1                                                 27                                     \n",
       "2                                                 27                                     \n",
       "3                                                 27                                     \n",
       "4                                                 27                                     \n",
       "\n",
       "  form.question1.score_logistics_patient_and_sample_transfer  \\\n",
       "0                                               19.5           \n",
       "1                                                 21           \n",
       "2                                               33.5           \n",
       "3                                               34.5           \n",
       "4                                               29.5           \n",
       "\n",
       "  form.question1.score_max_logistics_patient_and_sample_transfer  \\\n",
       "0                                                 44               \n",
       "1                                                 44               \n",
       "2                                                 44               \n",
       "3                                                 44               \n",
       "4                                                 44               \n",
       "\n",
       "  form.score_total form.score_max_total  \n",
       "0             48.5                102.0  \n",
       "1             35.5                102.0  \n",
       "2             55.5                102.0  \n",
       "3             57.5                102.0  \n",
       "4             55.0                102.0  \n",
       "\n",
       "[5 rows x 205 columns]"
      ]
     },
     "execution_count": 7,
     "metadata": {},
     "output_type": "execute_result"
    }
   ],
   "source": [
    "hfa.head()"
   ]
  },
  {
   "cell_type": "code",
   "execution_count": 10,
   "metadata": {},
   "outputs": [
    {
     "data": {
      "text/plain": [
       "29725"
      ]
     },
     "execution_count": 10,
     "metadata": {},
     "output_type": "execute_result"
    }
   ],
   "source": [
    "#missing values\n",
    "total_cells = np.product(hfa.shape)\n",
    "total_cells"
   ]
  },
  {
   "cell_type": "code",
   "execution_count": 11,
   "metadata": {},
   "outputs": [
    {
     "name": "stdout",
     "output_type": "stream",
     "text": [
      "2642\n"
     ]
    }
   ],
   "source": [
    "missing_values = hfa.isnull().sum()\n",
    "print(missing_values.sum())\n"
   ]
  },
  {
   "cell_type": "code",
   "execution_count": 14,
   "metadata": {},
   "outputs": [
    {
     "data": {
      "text/plain": [
       "'form.score_total'"
      ]
     },
     "execution_count": 14,
     "metadata": {},
     "output_type": "execute_result"
    }
   ],
   "source": [
    "#awesome\n",
    "col_list = hfa.columns.to_list()\n",
    "col_list[-2]"
   ]
  },
  {
   "cell_type": "code",
   "execution_count": 15,
   "metadata": {},
   "outputs": [],
   "source": [
    "from sklearn.model_selection import train_test_split"
   ]
  },
  {
   "cell_type": "code",
   "execution_count": 16,
   "metadata": {},
   "outputs": [],
   "source": [
    "#select target\n",
    "y = hfa[\"form.score_total\"]"
   ]
  },
  {
   "cell_type": "code",
   "execution_count": 18,
   "metadata": {},
   "outputs": [],
   "source": [
    "#just checking it worked\n",
    "#print(y)"
   ]
  },
  {
   "cell_type": "code",
   "execution_count": 20,
   "metadata": {},
   "outputs": [],
   "source": [
    "hfa_predictors = hfa.drop(['form.score_total'], axis=1)"
   ]
  },
  {
   "cell_type": "code",
   "execution_count": 21,
   "metadata": {},
   "outputs": [],
   "source": [
    "#exclude non numerical data \n",
    "X = hfa_predictors.select_dtypes(exclude=['object'])"
   ]
  },
  {
   "cell_type": "code",
   "execution_count": 24,
   "metadata": {},
   "outputs": [],
   "source": [
    "#print(X)"
   ]
  },
  {
   "cell_type": "code",
   "execution_count": 25,
   "metadata": {},
   "outputs": [],
   "source": [
    "X_train, X_valid, y_train, y_valid = train_test_split(X, y, train_size=0.8, test_size=0.2,\n",
    "                                                      random_state=0)"
   ]
  },
  {
   "cell_type": "code",
   "execution_count": 26,
   "metadata": {},
   "outputs": [
    {
     "name": "stdout",
     "output_type": "stream",
     "text": [
      "     Unnamed: 0  number  form.score_max_total\n",
      "104         104     104                 102.0\n",
      "116         116     116                  16.0\n",
      "18           18      18                 102.0\n",
      "43           43      43                 102.0\n",
      "56           56      56                 102.0\n",
      "..          ...     ...                   ...\n",
      "9             9       9                 102.0\n",
      "103         103     103                   5.0\n",
      "67           67      67                 102.0\n",
      "117         117     117                  16.0\n",
      "47           47      47                 102.0\n",
      "\n",
      "[116 rows x 3 columns]\n"
     ]
    }
   ],
   "source": [
    "print(X_train)"
   ]
  },
  {
   "cell_type": "code",
   "execution_count": null,
   "metadata": {},
   "outputs": [],
   "source": [
    "#NEED TO WORK ON COLUMN TYPES"
   ]
  },
  {
   "cell_type": "code",
   "execution_count": 29,
   "metadata": {},
   "outputs": [],
   "source": [
    "from sklearn.ensemble import RandomForestRegressor\n",
    "from sklearn.metrics import mean_absolute_error\n",
    "\n",
    "# Function for comparing different approaches\n",
    "def score_dataset(X_train, X_valid, y_train, y_valid):\n",
    "    model = RandomForestRegressor(n_estimators=10, random_state=0)\n",
    "    model.fit(X_train, y_train)\n",
    "    preds = model.predict(X_valid)\n",
    "    return mean_absolute_error(y_valid, preds)"
   ]
  },
  {
   "cell_type": "code",
   "execution_count": 31,
   "metadata": {},
   "outputs": [],
   "source": [
    "# Get names of columns with missing values\n",
    "cols_with_missing = [col for col in X_train.columns\n",
    "                     if X_train[col].isnull().any()]"
   ]
  },
  {
   "cell_type": "code",
   "execution_count": 33,
   "metadata": {},
   "outputs": [
    {
     "name": "stdout",
     "output_type": "stream",
     "text": [
      "['form.score_max_total']\n"
     ]
    }
   ],
   "source": [
    "print(cols_with_missing)"
   ]
  },
  {
   "cell_type": "code",
   "execution_count": 38,
   "metadata": {},
   "outputs": [],
   "source": [
    "# Get names of columns with problem values\n",
    "cols_with_problems = [col for col in X_train.columns\n",
    "                     if X_train[col].dtype==\"object\"]"
   ]
  },
  {
   "cell_type": "code",
   "execution_count": 39,
   "metadata": {},
   "outputs": [
    {
     "name": "stdout",
     "output_type": "stream",
     "text": [
      "[]\n"
     ]
    }
   ],
   "source": [
    "print(cols_with_problems)"
   ]
  },
  {
   "cell_type": "code",
   "execution_count": null,
   "metadata": {},
   "outputs": [],
   "source": [
    "#check hfa col dtype"
   ]
  },
  {
   "cell_type": "code",
   "execution_count": 35,
   "metadata": {},
   "outputs": [],
   "source": [
    "# Drop columns in training and validation data\n",
    "reduced_X_train = X_train.drop(cols_with_missing, axis=1)\n",
    "reduced_X_valid = X_valid.drop(cols_with_missing, axis=1)\n",
    "\n"
   ]
  },
  {
   "cell_type": "code",
   "execution_count": 37,
   "metadata": {},
   "outputs": [
    {
     "name": "stdout",
     "output_type": "stream",
     "text": [
      "MAE from Approach 1 (Drop columns with missing values):\n"
     ]
    }
   ],
   "source": [
    "print(\"MAE from Approach 1 (Drop columns with missing values):\")\n",
    "#print(score_dataset(reduced_X_train, reduced_X_valid, y_train, y_valid))"
   ]
  },
  {
   "cell_type": "code",
   "execution_count": 53,
   "metadata": {},
   "outputs": [
    {
     "name": "stdout",
     "output_type": "stream",
     "text": [
      "MAE from Approach 2 (Imputation):\n",
      "7.678571428571429\n"
     ]
    }
   ],
   "source": [
    "from sklearn.impute import SimpleImputer\n",
    "\n",
    "# Imputation\n",
    "my_imputer = SimpleImputer()\n",
    "imputed_X_train = pd.DataFrame(my_imputer.fit_transform(X_train))\n",
    "imputed_X_valid = pd.DataFrame(my_imputer.transform(X_valid))\n",
    "\n",
    "# Imputation removed column names; put them back\n",
    "imputed_X_train.columns = X_train.columns\n",
    "imputed_X_valid.columns = X_valid.columns\n",
    "\n",
    "print(\"MAE from Approach 2 (Imputation):\")\n",
    "print(score_dataset(imputed_X_train, imputed_X_valid, y_train, y_valid))"
   ]
  },
  {
   "cell_type": "code",
   "execution_count": 56,
   "metadata": {},
   "outputs": [
    {
     "name": "stdout",
     "output_type": "stream",
     "text": [
      "MAE from Approach 3 (An Extension to Imputation):\n",
      "7.701330532212886\n"
     ]
    }
   ],
   "source": [
    "# Make copy to avoid changing original data (when imputing)\n",
    "X_train_plus = X_train.copy()\n",
    "X_valid_plus = X_valid.copy()\n",
    "\n",
    "# Make new columns indicating what will be imputed\n",
    "for col in cols_with_missing:\n",
    "    X_train_plus[col + '_was_missing'] = X_train_plus[col].isnull()\n",
    "    X_valid_plus[col + '_was_missing'] = X_valid_plus[col].isnull()\n",
    "\n",
    "# Imputation\n",
    "my_imputer = SimpleImputer()\n",
    "imputed_X_train_plus = pd.DataFrame(my_imputer.fit_transform(X_train_plus))\n",
    "imputed_X_valid_plus = pd.DataFrame(my_imputer.transform(X_valid_plus))\n",
    "\n",
    "# Imputation removed column names; put them back\n",
    "imputed_X_train_plus.columns = X_train_plus.columns\n",
    "imputed_X_valid_plus.columns = X_valid_plus.columns\n",
    "\n",
    "print(\"MAE from Approach 3 (An Extension to Imputation):\")\n",
    "print(score_dataset(imputed_X_train_plus, imputed_X_valid_plus, y_train, y_valid))\n"
   ]
  },
  {
   "cell_type": "code",
   "execution_count": null,
   "metadata": {},
   "outputs": [],
   "source": []
  }
 ],
 "metadata": {
  "kernelspec": {
   "display_name": "Python 3",
   "language": "python",
   "name": "python3"
  },
  "language_info": {
   "codemirror_mode": {
    "name": "ipython",
    "version": 3
   },
   "file_extension": ".py",
   "mimetype": "text/x-python",
   "name": "python",
   "nbconvert_exporter": "python",
   "pygments_lexer": "ipython3",
   "version": "3.7.4"
  }
 },
 "nbformat": 4,
 "nbformat_minor": 2
}
