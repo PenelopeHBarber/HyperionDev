{
 "cells": [
  {
   "cell_type": "code",
   "execution_count": 34,
   "metadata": {},
   "outputs": [],
   "source": [
    "import pandas as pd\n",
    "import numpy as np\n",
    "from sklearn.model_selection import train_test_split\n",
    "from sklearn.ensemble import RandomForestRegressor\n",
    "from sklearn.metrics import mean_absolute_error\n",
    "from sklearn.impute import SimpleImputer\n"
   ]
  },
  {
   "cell_type": "code",
   "execution_count": 21,
   "metadata": {},
   "outputs": [],
   "source": [
    "random_state = 0"
   ]
  },
  {
   "cell_type": "code",
   "execution_count": 2,
   "metadata": {},
   "outputs": [],
   "source": [
    "hfa_file_path = r'C:\\\\Users\\\\Penelope\\\\Documents\\\\ASSIGNMENT\\\\Health Facility Assessment strip.xlsx'\n"
   ]
  },
  {
   "cell_type": "code",
   "execution_count": 3,
   "metadata": {},
   "outputs": [],
   "source": [
    "hfa = pd.read_excel (hfa_file_path)"
   ]
  },
  {
   "cell_type": "code",
   "execution_count": 5,
   "metadata": {},
   "outputs": [
    {
     "data": {
      "text/html": [
       "<div>\n",
       "<style scoped>\n",
       "    .dataframe tbody tr th:only-of-type {\n",
       "        vertical-align: middle;\n",
       "    }\n",
       "\n",
       "    .dataframe tbody tr th {\n",
       "        vertical-align: top;\n",
       "    }\n",
       "\n",
       "    .dataframe thead th {\n",
       "        text-align: right;\n",
       "    }\n",
       "</style>\n",
       "<table border=\"1\" class=\"dataframe\">\n",
       "  <thead>\n",
       "    <tr style=\"text-align: right;\">\n",
       "      <th></th>\n",
       "      <th>Unnamed: 0</th>\n",
       "      <th>Unnamed: 0.1</th>\n",
       "      <th>number</th>\n",
       "      <th>form.health_centre_information.facility_name</th>\n",
       "      <th>form.facility_gps</th>\n",
       "      <th>form.health_centre_information.location_information.region_province</th>\n",
       "      <th>form.health_centre_information.location_information.district</th>\n",
       "      <th>form.health_centre_information.location_information.chiefdom</th>\n",
       "      <th>form.health_centre_information.location_information.facility_location</th>\n",
       "      <th>form.health_centre_information.facility_type</th>\n",
       "      <th>...</th>\n",
       "      <th>form.grp_infection_prevention_and_control.ql_water_sanitation_and_hygiene.score_infection_prevention_and_control_water_sanitation_and_hygiene</th>\n",
       "      <th>form.grp_infection_prevention_and_control.ql_water_sanitation_and_hygiene.score_max_infection_prevention_and_control_water_sanitation_and_hygiene</th>\n",
       "      <th>form.grp_infection_prevention_and_control.ql_disinfection_and_sterilization.score_infection_prevention_and_control_disinfection_and_sterilization</th>\n",
       "      <th>form.grp_infection_prevention_and_control.ql_disinfection_and_sterilization.score_max_infection_prevention_and_control_disinfection_and_sterilization</th>\n",
       "      <th>form.grp_infection_prevention_and_control.score_infection_prevention_and_control</th>\n",
       "      <th>form.grp_infection_prevention_and_control.score_max_infection_prevention_and_control</th>\n",
       "      <th>form.question1.score_logistics_patient_and_sample_transfer</th>\n",
       "      <th>form.question1.score_max_logistics_patient_and_sample_transfer</th>\n",
       "      <th>form.score_total</th>\n",
       "      <th>form.score_max_total</th>\n",
       "    </tr>\n",
       "  </thead>\n",
       "  <tbody>\n",
       "    <tr>\n",
       "      <td>0</td>\n",
       "      <td>0</td>\n",
       "      <td>0</td>\n",
       "      <td>0</td>\n",
       "      <td>William hospital</td>\n",
       "      <td>60.234598, -90.157892</td>\n",
       "      <td>Southern</td>\n",
       "      <td>Pujehun</td>\n",
       "      <td>New York</td>\n",
       "      <td>Jasonfort</td>\n",
       "      <td>community_health_post</td>\n",
       "      <td>...</td>\n",
       "      <td>4.0</td>\n",
       "      <td>5.0</td>\n",
       "      <td>1.0</td>\n",
       "      <td>5.0</td>\n",
       "      <td>10.5</td>\n",
       "      <td>27.0</td>\n",
       "      <td>19.5</td>\n",
       "      <td>44.0</td>\n",
       "      <td>48.5</td>\n",
       "      <td>102.0</td>\n",
       "    </tr>\n",
       "    <tr>\n",
       "      <td>1</td>\n",
       "      <td>1</td>\n",
       "      <td>1</td>\n",
       "      <td>1</td>\n",
       "      <td>Kathryn Hospital/CHC</td>\n",
       "      <td>21.2454855, -107.509120</td>\n",
       "      <td>Southern</td>\n",
       "      <td>Bo</td>\n",
       "      <td>Arizona</td>\n",
       "      <td>West Jamesshire</td>\n",
       "      <td>community_health_post</td>\n",
       "      <td>...</td>\n",
       "      <td>1.5</td>\n",
       "      <td>5.0</td>\n",
       "      <td>0.0</td>\n",
       "      <td>5.0</td>\n",
       "      <td>5.5</td>\n",
       "      <td>27.0</td>\n",
       "      <td>21.0</td>\n",
       "      <td>44.0</td>\n",
       "      <td>35.5</td>\n",
       "      <td>102.0</td>\n",
       "    </tr>\n",
       "    <tr>\n",
       "      <td>2</td>\n",
       "      <td>2</td>\n",
       "      <td>2</td>\n",
       "      <td>2</td>\n",
       "      <td>Jessica Hospital</td>\n",
       "      <td>-0.178657, -9.190029</td>\n",
       "      <td>Southern</td>\n",
       "      <td>Bo</td>\n",
       "      <td>New Mexico</td>\n",
       "      <td>Robertsside</td>\n",
       "      <td>community_health_post</td>\n",
       "      <td>...</td>\n",
       "      <td>2.0</td>\n",
       "      <td>5.0</td>\n",
       "      <td>0.0</td>\n",
       "      <td>5.0</td>\n",
       "      <td>10.0</td>\n",
       "      <td>27.0</td>\n",
       "      <td>33.5</td>\n",
       "      <td>44.0</td>\n",
       "      <td>55.5</td>\n",
       "      <td>102.0</td>\n",
       "    </tr>\n",
       "    <tr>\n",
       "      <td>3</td>\n",
       "      <td>3</td>\n",
       "      <td>3</td>\n",
       "      <td>3</td>\n",
       "      <td>Lauren CHC</td>\n",
       "      <td>35.856989, -87.512790</td>\n",
       "      <td>Southern</td>\n",
       "      <td>Bonthe</td>\n",
       "      <td>Missouri</td>\n",
       "      <td>Port Christopher</td>\n",
       "      <td>mch_post</td>\n",
       "      <td>...</td>\n",
       "      <td>4.0</td>\n",
       "      <td>5.0</td>\n",
       "      <td>2.0</td>\n",
       "      <td>5.0</td>\n",
       "      <td>12.0</td>\n",
       "      <td>27.0</td>\n",
       "      <td>34.5</td>\n",
       "      <td>44.0</td>\n",
       "      <td>57.5</td>\n",
       "      <td>102.0</td>\n",
       "    </tr>\n",
       "    <tr>\n",
       "      <td>4</td>\n",
       "      <td>4</td>\n",
       "      <td>4</td>\n",
       "      <td>4</td>\n",
       "      <td>Tammy CHC</td>\n",
       "      <td>54.7148835, 150.744813</td>\n",
       "      <td>Southern</td>\n",
       "      <td>Bonthe</td>\n",
       "      <td>Virginia</td>\n",
       "      <td>Reneeton</td>\n",
       "      <td>community_health_post</td>\n",
       "      <td>...</td>\n",
       "      <td>4.0</td>\n",
       "      <td>5.0</td>\n",
       "      <td>3.0</td>\n",
       "      <td>5.0</td>\n",
       "      <td>12.0</td>\n",
       "      <td>27.0</td>\n",
       "      <td>29.5</td>\n",
       "      <td>44.0</td>\n",
       "      <td>55.0</td>\n",
       "      <td>102.0</td>\n",
       "    </tr>\n",
       "    <tr>\n",
       "      <td>5</td>\n",
       "      <td>5</td>\n",
       "      <td>5</td>\n",
       "      <td>5</td>\n",
       "      <td>NaN</td>\n",
       "      <td>22.8567535, 19.262410</td>\n",
       "      <td>NaN</td>\n",
       "      <td>NaN</td>\n",
       "      <td>NaN</td>\n",
       "      <td>NaN</td>\n",
       "      <td>NaN</td>\n",
       "      <td>...</td>\n",
       "      <td>0.0</td>\n",
       "      <td>5.0</td>\n",
       "      <td>0.0</td>\n",
       "      <td>5.0</td>\n",
       "      <td>0.0</td>\n",
       "      <td>27.0</td>\n",
       "      <td>NaN</td>\n",
       "      <td>NaN</td>\n",
       "      <td>NaN</td>\n",
       "      <td>NaN</td>\n",
       "    </tr>\n",
       "  </tbody>\n",
       "</table>\n",
       "<p>6 rows × 206 columns</p>\n",
       "</div>"
      ],
      "text/plain": [
       "   Unnamed: 0  Unnamed: 0.1  number  \\\n",
       "0           0             0       0   \n",
       "1           1             1       1   \n",
       "2           2             2       2   \n",
       "3           3             3       3   \n",
       "4           4             4       4   \n",
       "5           5             5       5   \n",
       "\n",
       "  form.health_centre_information.facility_name        form.facility_gps  \\\n",
       "0                             William hospital    60.234598, -90.157892   \n",
       "1                         Kathryn Hospital/CHC  21.2454855, -107.509120   \n",
       "2                             Jessica Hospital     -0.178657, -9.190029   \n",
       "3                                   Lauren CHC    35.856989, -87.512790   \n",
       "4                                    Tammy CHC   54.7148835, 150.744813   \n",
       "5                                          NaN    22.8567535, 19.262410   \n",
       "\n",
       "  form.health_centre_information.location_information.region_province  \\\n",
       "0                                           Southern                    \n",
       "1                                           Southern                    \n",
       "2                                           Southern                    \n",
       "3                                           Southern                    \n",
       "4                                           Southern                    \n",
       "5                                                NaN                    \n",
       "\n",
       "  form.health_centre_information.location_information.district  \\\n",
       "0                                            Pujehun             \n",
       "1                                                 Bo             \n",
       "2                                                 Bo             \n",
       "3                                             Bonthe             \n",
       "4                                             Bonthe             \n",
       "5                                                NaN             \n",
       "\n",
       "  form.health_centre_information.location_information.chiefdom  \\\n",
       "0                                           New York             \n",
       "1                                            Arizona             \n",
       "2                                         New Mexico             \n",
       "3                                           Missouri             \n",
       "4                                           Virginia             \n",
       "5                                                NaN             \n",
       "\n",
       "  form.health_centre_information.location_information.facility_location  \\\n",
       "0                                          Jasonfort                      \n",
       "1                                    West Jamesshire                      \n",
       "2                                        Robertsside                      \n",
       "3                                   Port Christopher                      \n",
       "4                                           Reneeton                      \n",
       "5                                                NaN                      \n",
       "\n",
       "  form.health_centre_information.facility_type  ...  \\\n",
       "0                        community_health_post  ...   \n",
       "1                        community_health_post  ...   \n",
       "2                        community_health_post  ...   \n",
       "3                                     mch_post  ...   \n",
       "4                        community_health_post  ...   \n",
       "5                                          NaN  ...   \n",
       "\n",
       "   form.grp_infection_prevention_and_control.ql_water_sanitation_and_hygiene.score_infection_prevention_and_control_water_sanitation_and_hygiene  \\\n",
       "0                                                4.0                                                                                               \n",
       "1                                                1.5                                                                                               \n",
       "2                                                2.0                                                                                               \n",
       "3                                                4.0                                                                                               \n",
       "4                                                4.0                                                                                               \n",
       "5                                                0.0                                                                                               \n",
       "\n",
       "  form.grp_infection_prevention_and_control.ql_water_sanitation_and_hygiene.score_max_infection_prevention_and_control_water_sanitation_and_hygiene  \\\n",
       "0                                                5.0                                                                                                  \n",
       "1                                                5.0                                                                                                  \n",
       "2                                                5.0                                                                                                  \n",
       "3                                                5.0                                                                                                  \n",
       "4                                                5.0                                                                                                  \n",
       "5                                                5.0                                                                                                  \n",
       "\n",
       "  form.grp_infection_prevention_and_control.ql_disinfection_and_sterilization.score_infection_prevention_and_control_disinfection_and_sterilization  \\\n",
       "0                                                1.0                                                                                                  \n",
       "1                                                0.0                                                                                                  \n",
       "2                                                0.0                                                                                                  \n",
       "3                                                2.0                                                                                                  \n",
       "4                                                3.0                                                                                                  \n",
       "5                                                0.0                                                                                                  \n",
       "\n",
       "  form.grp_infection_prevention_and_control.ql_disinfection_and_sterilization.score_max_infection_prevention_and_control_disinfection_and_sterilization  \\\n",
       "0                                                5.0                                                                                                      \n",
       "1                                                5.0                                                                                                      \n",
       "2                                                5.0                                                                                                      \n",
       "3                                                5.0                                                                                                      \n",
       "4                                                5.0                                                                                                      \n",
       "5                                                5.0                                                                                                      \n",
       "\n",
       "  form.grp_infection_prevention_and_control.score_infection_prevention_and_control  \\\n",
       "0                                               10.5                                 \n",
       "1                                                5.5                                 \n",
       "2                                               10.0                                 \n",
       "3                                               12.0                                 \n",
       "4                                               12.0                                 \n",
       "5                                                0.0                                 \n",
       "\n",
       "   form.grp_infection_prevention_and_control.score_max_infection_prevention_and_control  \\\n",
       "0                                               27.0                                      \n",
       "1                                               27.0                                      \n",
       "2                                               27.0                                      \n",
       "3                                               27.0                                      \n",
       "4                                               27.0                                      \n",
       "5                                               27.0                                      \n",
       "\n",
       "   form.question1.score_logistics_patient_and_sample_transfer  \\\n",
       "0                                               19.5            \n",
       "1                                               21.0            \n",
       "2                                               33.5            \n",
       "3                                               34.5            \n",
       "4                                               29.5            \n",
       "5                                                NaN            \n",
       "\n",
       "   form.question1.score_max_logistics_patient_and_sample_transfer  \\\n",
       "0                                               44.0                \n",
       "1                                               44.0                \n",
       "2                                               44.0                \n",
       "3                                               44.0                \n",
       "4                                               44.0                \n",
       "5                                                NaN                \n",
       "\n",
       "   form.score_total  form.score_max_total  \n",
       "0              48.5                 102.0  \n",
       "1              35.5                 102.0  \n",
       "2              55.5                 102.0  \n",
       "3              57.5                 102.0  \n",
       "4              55.0                 102.0  \n",
       "5               NaN                   NaN  \n",
       "\n",
       "[6 rows x 206 columns]"
      ]
     },
     "execution_count": 5,
     "metadata": {},
     "output_type": "execute_result"
    }
   ],
   "source": [
    "hfa.head(6)"
   ]
  },
  {
   "cell_type": "code",
   "execution_count": 10,
   "metadata": {},
   "outputs": [
    {
     "name": "stdout",
     "output_type": "stream",
     "text": [
      "5674 missing\n",
      "29870 total\n",
      "18.995647807164378\n"
     ]
    }
   ],
   "source": [
    "#missing values\n",
    "missing_values = hfa.isnull().sum()\n",
    "print(missing_values.sum(), \"missing\")\n",
    "\n",
    "total_cells = np.product(hfa.shape)\n",
    "print(total_cells, \"total\")\n",
    "\n",
    "print(missing_values.sum()/total_cells*100)"
   ]
  },
  {
   "cell_type": "code",
   "execution_count": 11,
   "metadata": {},
   "outputs": [
    {
     "data": {
      "text/plain": [
       "'form.score_total'"
      ]
     },
     "execution_count": 11,
     "metadata": {},
     "output_type": "execute_result"
    }
   ],
   "source": [
    "#awesome\n",
    "col_list = hfa.columns.to_list()\n",
    "col_list[-2]"
   ]
  },
  {
   "cell_type": "code",
   "execution_count": 13,
   "metadata": {},
   "outputs": [],
   "source": [
    "#select target\n",
    "y = hfa[\"form.score_total\"]"
   ]
  },
  {
   "cell_type": "code",
   "execution_count": 15,
   "metadata": {},
   "outputs": [],
   "source": [
    "#just checking it worked\n",
    "#print(y)"
   ]
  },
  {
   "cell_type": "code",
   "execution_count": 16,
   "metadata": {},
   "outputs": [],
   "source": [
    "hfa_predictors = hfa.drop(['form.score_total'], axis=1)"
   ]
  },
  {
   "cell_type": "code",
   "execution_count": 25,
   "metadata": {},
   "outputs": [],
   "source": [
    "#################################################################################\n",
    "#NEED TO ENCODE CATEGORICAL AND NOT EXCLUDE DATA"
   ]
  },
  {
   "cell_type": "code",
   "execution_count": 17,
   "metadata": {},
   "outputs": [],
   "source": [
    "#exclude non numerical data \n",
    "X = hfa_predictors.select_dtypes(exclude=['object'])"
   ]
  },
  {
   "cell_type": "code",
   "execution_count": 19,
   "metadata": {},
   "outputs": [],
   "source": [
    "#print(X)"
   ]
  },
  {
   "cell_type": "code",
   "execution_count": 20,
   "metadata": {},
   "outputs": [],
   "source": [
    "X_train, X_valid, y_train, y_valid = train_test_split(X, y, train_size=0.8, test_size=0.2,\n",
    "                                                      random_state=0)"
   ]
  },
  {
   "cell_type": "code",
   "execution_count": 23,
   "metadata": {},
   "outputs": [],
   "source": [
    "#print(X_train)"
   ]
  },
  {
   "cell_type": "code",
   "execution_count": 26,
   "metadata": {},
   "outputs": [],
   "source": [
    "# Function for comparing different approaches\n",
    "def score_dataset(X_train, X_valid, y_train, y_valid):\n",
    "    model = RandomForestRegressor(n_estimators=10, random_state=0)\n",
    "    model.fit(X_train, y_train)\n",
    "    preds = model.predict(X_valid)\n",
    "    return mean_absolute_error(y_valid, preds)"
   ]
  },
  {
   "cell_type": "code",
   "execution_count": 27,
   "metadata": {},
   "outputs": [],
   "source": [
    "# Get names of columns with missing values\n",
    "cols_with_missing = [col for col in X_train.columns\n",
    "                     if X_train[col].isnull().any()]"
   ]
  },
  {
   "cell_type": "code",
   "execution_count": 28,
   "metadata": {},
   "outputs": [
    {
     "name": "stdout",
     "output_type": "stream",
     "text": [
      "['form.health_centre_information.facility_type_other', 'form.health_centre_information.capacity.number_consultation_rooms', 'form.health_centre_information.capacity.number_inpatient_beds', 'form.health_centre_information.capacity.number_maternity_beds', 'form.health_centre_information.group_number_employed.list_community_health_officer.cho_number_in_post', 'form.health_centre_information.group_number_employed.list_community_health_officer.cho_number_present_at_visit', 'form.health_centre_information.group_number_employed.list_community_health_technician.cht_number_in_post', 'form.health_centre_information.group_number_employed.list_community_health_technician.cht_number_present_at_visit', 'form.health_centre_information.group_number_employed.list_community_health_assistant.cha_number_in_post', 'form.health_centre_information.group_number_employed.list_community_health_assistant.cha_number_present_at_visit', 'form.health_centre_information.group_number_employed.list_community_midwives.cm_number_in_post', 'form.health_centre_information.group_number_employed.list_community_midwives.cm_number_present_at_visit', 'form.health_centre_information.group_number_employed.list_sechn.sechn_number_in_post', 'form.health_centre_information.group_number_employed.list_sechn.sechn_number_present_at_visit', 'form.health_centre_information.group_number_employed.list_laboratory_technicians.lab_tech_number_in_post', 'form.health_centre_information.group_number_employed.list_laboratory_technicians.lab_tech_number_present_at_visit', 'form.health_centre_information.group_number_employed.list_mch_aides.mch_aides_number_in_post', 'form.health_centre_information.group_number_employed.list_mch_aides.mch_aides_number_present_at_visit', 'form.health_centre_information.group_number_employed.list_cleaner_porter.cleaner_porter_number_in_post', 'form.health_centre_information.group_number_employed.list_cleaner_porter.cleaner_porter_number_present_at_visit', 'form.health_centre_information.group_number_employed.list_other.other_number_in_post', 'form.health_centre_information.group_number_employed.list_other.other_number_present_at_visit', 'form.consultations.head_count.month_1', 'form.consultations.head_count.month_2', 'form.consultations.head_count.month_3', 'form.consultations.head_count.month_4', 'form.consultations.general_outpatient.month_1', 'form.consultations.general_outpatient.month_2', 'form.consultations.general_outpatient.month_3', 'form.consultations.general_outpatient.month_4', 'form.consultations.deliveries.month_1', 'form.consultations.deliveries.month_2', 'form.consultations.deliveries.month_3', 'form.consultations.deliveries.month_4', 'form.consultations.pent_vaccines.month_1', 'form.consultations.pent_vaccines.month_2', 'form.consultations.pent_vaccines.month_3', 'form.consultations.pent_vaccines.month_4', 'form.ql_human_resources.choice_labels', 'form.ql_information_education_communication.choice_labels', 'form.ql_surveillance.choice_labels', 'form.ql_triage_and_early_recognition.choice_labels', 'form.ql_chw.choice_labels', 'form.ql_isolation_physical_distancing.choice_labels', 'form.grp_infection_prevention_and_control.ql_ppe.choice_labels', 'form.grp_infection_prevention_and_control.ql_ppe_plan.choice_labels', 'form.grp_infection_prevention_and_control.ql_waste_collection_and_disposal.choice_labels', 'form.grp_infection_prevention_and_control.ql_water_sanitation_and_hygiene.choice_labels', 'form.grp_infection_prevention_and_control.ql_disinfection_and_sterilization.choice_labels', 'form.ql_logistics_patient_and_sample_transfer.choice_labels', 'form.question10.choice_labels', 'form.question6.choice_labels', 'form.question2.choice_labels', 'form.question7.choice_labels', 'form.question4.choice_labels', 'form.question1.choice_labels', 'form.consultations.head_count.monthly_average_head_counts', 'form.consultations.general_outpatient.monthly_average_general_outpatient', 'form.consultations.deliveries.monthly_average_deliveries', 'form.consultations.pent_vaccines.monthly_average_pent_vaccines', 'form.ql_human_resources.score_human_resources', 'form.ql_human_resources.score_max_human_resources', 'form.ql_information_education_communication.score_information_education_communication', 'form.ql_information_education_communication.score_max_information_education_communication', 'form.ql_surveillance.score_surveillance', 'form.ql_surveillance.score_max_surveillance', 'form.ql_triage_and_early_recognition.score_triage_and_early_recognition', 'form.ql_triage_and_early_recognition.score_max_triage_and_early_recognition', 'form.ql_chw.score_chw', 'form.ql_chw.score_max_chw', 'form.ql_isolation_physical_distancing.score_isolation', 'form.ql_isolation_physical_distancing.score_max_isolation', 'form.grp_infection_prevention_and_control.ql_ppe.score_infection_prevention_and_control_ppe', 'form.grp_infection_prevention_and_control.ql_ppe.score_max_infection_prevention_and_control_ppe', 'form.grp_infection_prevention_and_control.ql_ppe_plan.score_infection_prevention_and_control_ppe_plan', 'form.grp_infection_prevention_and_control.ql_ppe_plan.score_max_infection_prevention_and_control_ppe_plan', 'form.grp_infection_prevention_and_control.ql_waste_collection_and_disposal.score_infection_prevention_and_control_waste_collection_and_disposal', 'form.grp_infection_prevention_and_control.ql_waste_collection_and_disposal.score_max_infection_prevention_and_control_waste_collection_and_disposal', 'form.grp_infection_prevention_and_control.ql_water_sanitation_and_hygiene.score_infection_prevention_and_control_water_sanitation_and_hygiene', 'form.grp_infection_prevention_and_control.ql_water_sanitation_and_hygiene.score_max_infection_prevention_and_control_water_sanitation_and_hygiene', 'form.grp_infection_prevention_and_control.ql_disinfection_and_sterilization.score_infection_prevention_and_control_disinfection_and_sterilization', 'form.grp_infection_prevention_and_control.ql_disinfection_and_sterilization.score_max_infection_prevention_and_control_disinfection_and_sterilization', 'form.grp_infection_prevention_and_control.score_infection_prevention_and_control', 'form.grp_infection_prevention_and_control.score_max_infection_prevention_and_control', 'form.question1.score_logistics_patient_and_sample_transfer', 'form.question1.score_max_logistics_patient_and_sample_transfer', 'form.score_max_total']\n"
     ]
    }
   ],
   "source": [
    "print(cols_with_missing)"
   ]
  },
  {
   "cell_type": "code",
   "execution_count": 29,
   "metadata": {},
   "outputs": [],
   "source": [
    "# Get names of columns with problem values\n",
    "cols_with_problems = [col for col in X_train.columns\n",
    "                     if X_train[col].dtype==\"object\"]"
   ]
  },
  {
   "cell_type": "code",
   "execution_count": 30,
   "metadata": {},
   "outputs": [
    {
     "name": "stdout",
     "output_type": "stream",
     "text": [
      "[]\n"
     ]
    }
   ],
   "source": [
    "print(cols_with_problems)"
   ]
  },
  {
   "cell_type": "code",
   "execution_count": null,
   "metadata": {},
   "outputs": [],
   "source": [
    "#check hfa col dtype"
   ]
  },
  {
   "cell_type": "code",
   "execution_count": 31,
   "metadata": {},
   "outputs": [],
   "source": [
    "# Drop columns in training and validation data\n",
    "reduced_X_train = X_train.drop(cols_with_missing, axis=1)\n",
    "reduced_X_valid = X_valid.drop(cols_with_missing, axis=1)\n",
    "\n"
   ]
  },
  {
   "cell_type": "code",
   "execution_count": 36,
   "metadata": {},
   "outputs": [
    {
     "name": "stdout",
     "output_type": "stream",
     "text": [
      "(116, 3)\n",
      "(29, 3)\n"
     ]
    }
   ],
   "source": [
    "print(reduced_X_train.shape)\n",
    "print(reduced_X_valid.shape)"
   ]
  },
  {
   "cell_type": "code",
   "execution_count": 32,
   "metadata": {},
   "outputs": [
    {
     "name": "stdout",
     "output_type": "stream",
     "text": [
      "MAE from Approach 1 (Drop columns with missing values):\n"
     ]
    },
    {
     "ename": "ValueError",
     "evalue": "Input contains NaN, infinity or a value too large for dtype('float64').",
     "output_type": "error",
     "traceback": [
      "\u001b[1;31m---------------------------------------------------------------------------\u001b[0m",
      "\u001b[1;31mValueError\u001b[0m                                Traceback (most recent call last)",
      "\u001b[1;32m<ipython-input-32-45c4ab6c8fc7>\u001b[0m in \u001b[0;36m<module>\u001b[1;34m\u001b[0m\n\u001b[0;32m      1\u001b[0m \u001b[0mprint\u001b[0m\u001b[1;33m(\u001b[0m\u001b[1;34m\"MAE from Approach 1 (Drop columns with missing values):\"\u001b[0m\u001b[1;33m)\u001b[0m\u001b[1;33m\u001b[0m\u001b[1;33m\u001b[0m\u001b[0m\n\u001b[1;32m----> 2\u001b[1;33m \u001b[0mprint\u001b[0m\u001b[1;33m(\u001b[0m\u001b[0mscore_dataset\u001b[0m\u001b[1;33m(\u001b[0m\u001b[0mreduced_X_train\u001b[0m\u001b[1;33m,\u001b[0m \u001b[0mreduced_X_valid\u001b[0m\u001b[1;33m,\u001b[0m \u001b[0my_train\u001b[0m\u001b[1;33m,\u001b[0m \u001b[0my_valid\u001b[0m\u001b[1;33m)\u001b[0m\u001b[1;33m)\u001b[0m\u001b[1;33m\u001b[0m\u001b[1;33m\u001b[0m\u001b[0m\n\u001b[0m",
      "\u001b[1;32m<ipython-input-26-de04ed3331fa>\u001b[0m in \u001b[0;36mscore_dataset\u001b[1;34m(X_train, X_valid, y_train, y_valid)\u001b[0m\n\u001b[0;32m      2\u001b[0m \u001b[1;32mdef\u001b[0m \u001b[0mscore_dataset\u001b[0m\u001b[1;33m(\u001b[0m\u001b[0mX_train\u001b[0m\u001b[1;33m,\u001b[0m \u001b[0mX_valid\u001b[0m\u001b[1;33m,\u001b[0m \u001b[0my_train\u001b[0m\u001b[1;33m,\u001b[0m \u001b[0my_valid\u001b[0m\u001b[1;33m)\u001b[0m\u001b[1;33m:\u001b[0m\u001b[1;33m\u001b[0m\u001b[1;33m\u001b[0m\u001b[0m\n\u001b[0;32m      3\u001b[0m     \u001b[0mmodel\u001b[0m \u001b[1;33m=\u001b[0m \u001b[0mRandomForestRegressor\u001b[0m\u001b[1;33m(\u001b[0m\u001b[0mn_estimators\u001b[0m\u001b[1;33m=\u001b[0m\u001b[1;36m10\u001b[0m\u001b[1;33m,\u001b[0m \u001b[0mrandom_state\u001b[0m\u001b[1;33m=\u001b[0m\u001b[1;36m0\u001b[0m\u001b[1;33m)\u001b[0m\u001b[1;33m\u001b[0m\u001b[1;33m\u001b[0m\u001b[0m\n\u001b[1;32m----> 4\u001b[1;33m     \u001b[0mmodel\u001b[0m\u001b[1;33m.\u001b[0m\u001b[0mfit\u001b[0m\u001b[1;33m(\u001b[0m\u001b[0mX_train\u001b[0m\u001b[1;33m,\u001b[0m \u001b[0my_train\u001b[0m\u001b[1;33m)\u001b[0m\u001b[1;33m\u001b[0m\u001b[1;33m\u001b[0m\u001b[0m\n\u001b[0m\u001b[0;32m      5\u001b[0m     \u001b[0mpreds\u001b[0m \u001b[1;33m=\u001b[0m \u001b[0mmodel\u001b[0m\u001b[1;33m.\u001b[0m\u001b[0mpredict\u001b[0m\u001b[1;33m(\u001b[0m\u001b[0mX_valid\u001b[0m\u001b[1;33m)\u001b[0m\u001b[1;33m\u001b[0m\u001b[1;33m\u001b[0m\u001b[0m\n\u001b[0;32m      6\u001b[0m     \u001b[1;32mreturn\u001b[0m \u001b[0mmean_absolute_error\u001b[0m\u001b[1;33m(\u001b[0m\u001b[0my_valid\u001b[0m\u001b[1;33m,\u001b[0m \u001b[0mpreds\u001b[0m\u001b[1;33m)\u001b[0m\u001b[1;33m\u001b[0m\u001b[1;33m\u001b[0m\u001b[0m\n",
      "\u001b[1;32m~\\Anaconda3\\lib\\site-packages\\sklearn\\ensemble\\forest.py\u001b[0m in \u001b[0;36mfit\u001b[1;34m(self, X, y, sample_weight)\u001b[0m\n\u001b[0;32m    248\u001b[0m         \u001b[1;31m# Validate or convert input data\u001b[0m\u001b[1;33m\u001b[0m\u001b[1;33m\u001b[0m\u001b[1;33m\u001b[0m\u001b[0m\n\u001b[0;32m    249\u001b[0m         \u001b[0mX\u001b[0m \u001b[1;33m=\u001b[0m \u001b[0mcheck_array\u001b[0m\u001b[1;33m(\u001b[0m\u001b[0mX\u001b[0m\u001b[1;33m,\u001b[0m \u001b[0maccept_sparse\u001b[0m\u001b[1;33m=\u001b[0m\u001b[1;34m\"csc\"\u001b[0m\u001b[1;33m,\u001b[0m \u001b[0mdtype\u001b[0m\u001b[1;33m=\u001b[0m\u001b[0mDTYPE\u001b[0m\u001b[1;33m)\u001b[0m\u001b[1;33m\u001b[0m\u001b[1;33m\u001b[0m\u001b[0m\n\u001b[1;32m--> 250\u001b[1;33m         \u001b[0my\u001b[0m \u001b[1;33m=\u001b[0m \u001b[0mcheck_array\u001b[0m\u001b[1;33m(\u001b[0m\u001b[0my\u001b[0m\u001b[1;33m,\u001b[0m \u001b[0maccept_sparse\u001b[0m\u001b[1;33m=\u001b[0m\u001b[1;34m'csc'\u001b[0m\u001b[1;33m,\u001b[0m \u001b[0mensure_2d\u001b[0m\u001b[1;33m=\u001b[0m\u001b[1;32mFalse\u001b[0m\u001b[1;33m,\u001b[0m \u001b[0mdtype\u001b[0m\u001b[1;33m=\u001b[0m\u001b[1;32mNone\u001b[0m\u001b[1;33m)\u001b[0m\u001b[1;33m\u001b[0m\u001b[1;33m\u001b[0m\u001b[0m\n\u001b[0m\u001b[0;32m    251\u001b[0m         \u001b[1;32mif\u001b[0m \u001b[0msample_weight\u001b[0m \u001b[1;32mis\u001b[0m \u001b[1;32mnot\u001b[0m \u001b[1;32mNone\u001b[0m\u001b[1;33m:\u001b[0m\u001b[1;33m\u001b[0m\u001b[1;33m\u001b[0m\u001b[0m\n\u001b[0;32m    252\u001b[0m             \u001b[0msample_weight\u001b[0m \u001b[1;33m=\u001b[0m \u001b[0mcheck_array\u001b[0m\u001b[1;33m(\u001b[0m\u001b[0msample_weight\u001b[0m\u001b[1;33m,\u001b[0m \u001b[0mensure_2d\u001b[0m\u001b[1;33m=\u001b[0m\u001b[1;32mFalse\u001b[0m\u001b[1;33m)\u001b[0m\u001b[1;33m\u001b[0m\u001b[1;33m\u001b[0m\u001b[0m\n",
      "\u001b[1;32m~\\Anaconda3\\lib\\site-packages\\sklearn\\utils\\validation.py\u001b[0m in \u001b[0;36mcheck_array\u001b[1;34m(array, accept_sparse, accept_large_sparse, dtype, order, copy, force_all_finite, ensure_2d, allow_nd, ensure_min_samples, ensure_min_features, warn_on_dtype, estimator)\u001b[0m\n\u001b[0;32m    540\u001b[0m         \u001b[1;32mif\u001b[0m \u001b[0mforce_all_finite\u001b[0m\u001b[1;33m:\u001b[0m\u001b[1;33m\u001b[0m\u001b[1;33m\u001b[0m\u001b[0m\n\u001b[0;32m    541\u001b[0m             _assert_all_finite(array,\n\u001b[1;32m--> 542\u001b[1;33m                                allow_nan=force_all_finite == 'allow-nan')\n\u001b[0m\u001b[0;32m    543\u001b[0m \u001b[1;33m\u001b[0m\u001b[0m\n\u001b[0;32m    544\u001b[0m     \u001b[1;32mif\u001b[0m \u001b[0mensure_min_samples\u001b[0m \u001b[1;33m>\u001b[0m \u001b[1;36m0\u001b[0m\u001b[1;33m:\u001b[0m\u001b[1;33m\u001b[0m\u001b[1;33m\u001b[0m\u001b[0m\n",
      "\u001b[1;32m~\\Anaconda3\\lib\\site-packages\\sklearn\\utils\\validation.py\u001b[0m in \u001b[0;36m_assert_all_finite\u001b[1;34m(X, allow_nan)\u001b[0m\n\u001b[0;32m     54\u001b[0m                 not allow_nan and not np.isfinite(X).all()):\n\u001b[0;32m     55\u001b[0m             \u001b[0mtype_err\u001b[0m \u001b[1;33m=\u001b[0m \u001b[1;34m'infinity'\u001b[0m \u001b[1;32mif\u001b[0m \u001b[0mallow_nan\u001b[0m \u001b[1;32melse\u001b[0m \u001b[1;34m'NaN, infinity'\u001b[0m\u001b[1;33m\u001b[0m\u001b[1;33m\u001b[0m\u001b[0m\n\u001b[1;32m---> 56\u001b[1;33m             \u001b[1;32mraise\u001b[0m \u001b[0mValueError\u001b[0m\u001b[1;33m(\u001b[0m\u001b[0mmsg_err\u001b[0m\u001b[1;33m.\u001b[0m\u001b[0mformat\u001b[0m\u001b[1;33m(\u001b[0m\u001b[0mtype_err\u001b[0m\u001b[1;33m,\u001b[0m \u001b[0mX\u001b[0m\u001b[1;33m.\u001b[0m\u001b[0mdtype\u001b[0m\u001b[1;33m)\u001b[0m\u001b[1;33m)\u001b[0m\u001b[1;33m\u001b[0m\u001b[1;33m\u001b[0m\u001b[0m\n\u001b[0m\u001b[0;32m     57\u001b[0m     \u001b[1;31m# for object dtype data, we only check for NaNs (GH-13254)\u001b[0m\u001b[1;33m\u001b[0m\u001b[1;33m\u001b[0m\u001b[1;33m\u001b[0m\u001b[0m\n\u001b[0;32m     58\u001b[0m     \u001b[1;32melif\u001b[0m \u001b[0mX\u001b[0m\u001b[1;33m.\u001b[0m\u001b[0mdtype\u001b[0m \u001b[1;33m==\u001b[0m \u001b[0mnp\u001b[0m\u001b[1;33m.\u001b[0m\u001b[0mdtype\u001b[0m\u001b[1;33m(\u001b[0m\u001b[1;34m'object'\u001b[0m\u001b[1;33m)\u001b[0m \u001b[1;32mand\u001b[0m \u001b[1;32mnot\u001b[0m \u001b[0mallow_nan\u001b[0m\u001b[1;33m:\u001b[0m\u001b[1;33m\u001b[0m\u001b[1;33m\u001b[0m\u001b[0m\n",
      "\u001b[1;31mValueError\u001b[0m: Input contains NaN, infinity or a value too large for dtype('float64')."
     ]
    }
   ],
   "source": [
    "print(\"MAE from Approach 1 (Drop columns with missing values):\")\n",
    "print(score_dataset(reduced_X_train, reduced_X_valid, y_train, y_valid))"
   ]
  },
  {
   "cell_type": "code",
   "execution_count": 37,
   "metadata": {},
   "outputs": [
    {
     "ename": "ValueError",
     "evalue": "Length mismatch: Expected axis has 71 elements, new values have 90 elements",
     "output_type": "error",
     "traceback": [
      "\u001b[1;31m---------------------------------------------------------------------------\u001b[0m",
      "\u001b[1;31mValueError\u001b[0m                                Traceback (most recent call last)",
      "\u001b[1;32m<ipython-input-37-8b2d95ccd053>\u001b[0m in \u001b[0;36m<module>\u001b[1;34m\u001b[0m\n\u001b[0;32m      5\u001b[0m \u001b[1;33m\u001b[0m\u001b[0m\n\u001b[0;32m      6\u001b[0m \u001b[1;31m# Imputation removed column names; put them back\u001b[0m\u001b[1;33m\u001b[0m\u001b[1;33m\u001b[0m\u001b[1;33m\u001b[0m\u001b[0m\n\u001b[1;32m----> 7\u001b[1;33m \u001b[0mimputed_X_train\u001b[0m\u001b[1;33m.\u001b[0m\u001b[0mcolumns\u001b[0m \u001b[1;33m=\u001b[0m \u001b[0mX_train\u001b[0m\u001b[1;33m.\u001b[0m\u001b[0mcolumns\u001b[0m\u001b[1;33m\u001b[0m\u001b[1;33m\u001b[0m\u001b[0m\n\u001b[0m\u001b[0;32m      8\u001b[0m \u001b[0mimputed_X_valid\u001b[0m\u001b[1;33m.\u001b[0m\u001b[0mcolumns\u001b[0m \u001b[1;33m=\u001b[0m \u001b[0mX_valid\u001b[0m\u001b[1;33m.\u001b[0m\u001b[0mcolumns\u001b[0m\u001b[1;33m\u001b[0m\u001b[1;33m\u001b[0m\u001b[0m\n\u001b[0;32m      9\u001b[0m \u001b[1;33m\u001b[0m\u001b[0m\n",
      "\u001b[1;32m~\\Anaconda3\\lib\\site-packages\\pandas\\core\\generic.py\u001b[0m in \u001b[0;36m__setattr__\u001b[1;34m(self, name, value)\u001b[0m\n\u001b[0;32m   5190\u001b[0m         \u001b[1;32mtry\u001b[0m\u001b[1;33m:\u001b[0m\u001b[1;33m\u001b[0m\u001b[1;33m\u001b[0m\u001b[0m\n\u001b[0;32m   5191\u001b[0m             \u001b[0mobject\u001b[0m\u001b[1;33m.\u001b[0m\u001b[0m__getattribute__\u001b[0m\u001b[1;33m(\u001b[0m\u001b[0mself\u001b[0m\u001b[1;33m,\u001b[0m \u001b[0mname\u001b[0m\u001b[1;33m)\u001b[0m\u001b[1;33m\u001b[0m\u001b[1;33m\u001b[0m\u001b[0m\n\u001b[1;32m-> 5192\u001b[1;33m             \u001b[1;32mreturn\u001b[0m \u001b[0mobject\u001b[0m\u001b[1;33m.\u001b[0m\u001b[0m__setattr__\u001b[0m\u001b[1;33m(\u001b[0m\u001b[0mself\u001b[0m\u001b[1;33m,\u001b[0m \u001b[0mname\u001b[0m\u001b[1;33m,\u001b[0m \u001b[0mvalue\u001b[0m\u001b[1;33m)\u001b[0m\u001b[1;33m\u001b[0m\u001b[1;33m\u001b[0m\u001b[0m\n\u001b[0m\u001b[0;32m   5193\u001b[0m         \u001b[1;32mexcept\u001b[0m \u001b[0mAttributeError\u001b[0m\u001b[1;33m:\u001b[0m\u001b[1;33m\u001b[0m\u001b[1;33m\u001b[0m\u001b[0m\n\u001b[0;32m   5194\u001b[0m             \u001b[1;32mpass\u001b[0m\u001b[1;33m\u001b[0m\u001b[1;33m\u001b[0m\u001b[0m\n",
      "\u001b[1;32mpandas\\_libs\\properties.pyx\u001b[0m in \u001b[0;36mpandas._libs.properties.AxisProperty.__set__\u001b[1;34m()\u001b[0m\n",
      "\u001b[1;32m~\\Anaconda3\\lib\\site-packages\\pandas\\core\\generic.py\u001b[0m in \u001b[0;36m_set_axis\u001b[1;34m(self, axis, labels)\u001b[0m\n\u001b[0;32m    688\u001b[0m \u001b[1;33m\u001b[0m\u001b[0m\n\u001b[0;32m    689\u001b[0m     \u001b[1;32mdef\u001b[0m \u001b[0m_set_axis\u001b[0m\u001b[1;33m(\u001b[0m\u001b[0mself\u001b[0m\u001b[1;33m,\u001b[0m \u001b[0maxis\u001b[0m\u001b[1;33m,\u001b[0m \u001b[0mlabels\u001b[0m\u001b[1;33m)\u001b[0m\u001b[1;33m:\u001b[0m\u001b[1;33m\u001b[0m\u001b[1;33m\u001b[0m\u001b[0m\n\u001b[1;32m--> 690\u001b[1;33m         \u001b[0mself\u001b[0m\u001b[1;33m.\u001b[0m\u001b[0m_data\u001b[0m\u001b[1;33m.\u001b[0m\u001b[0mset_axis\u001b[0m\u001b[1;33m(\u001b[0m\u001b[0maxis\u001b[0m\u001b[1;33m,\u001b[0m \u001b[0mlabels\u001b[0m\u001b[1;33m)\u001b[0m\u001b[1;33m\u001b[0m\u001b[1;33m\u001b[0m\u001b[0m\n\u001b[0m\u001b[0;32m    691\u001b[0m         \u001b[0mself\u001b[0m\u001b[1;33m.\u001b[0m\u001b[0m_clear_item_cache\u001b[0m\u001b[1;33m(\u001b[0m\u001b[1;33m)\u001b[0m\u001b[1;33m\u001b[0m\u001b[1;33m\u001b[0m\u001b[0m\n\u001b[0;32m    692\u001b[0m \u001b[1;33m\u001b[0m\u001b[0m\n",
      "\u001b[1;32m~\\Anaconda3\\lib\\site-packages\\pandas\\core\\internals\\managers.py\u001b[0m in \u001b[0;36mset_axis\u001b[1;34m(self, axis, new_labels)\u001b[0m\n\u001b[0;32m    181\u001b[0m             raise ValueError(\n\u001b[0;32m    182\u001b[0m                 \u001b[1;34m\"Length mismatch: Expected axis has {old} elements, new \"\u001b[0m\u001b[1;33m\u001b[0m\u001b[1;33m\u001b[0m\u001b[0m\n\u001b[1;32m--> 183\u001b[1;33m                 \u001b[1;34m\"values have {new} elements\"\u001b[0m\u001b[1;33m.\u001b[0m\u001b[0mformat\u001b[0m\u001b[1;33m(\u001b[0m\u001b[0mold\u001b[0m\u001b[1;33m=\u001b[0m\u001b[0mold_len\u001b[0m\u001b[1;33m,\u001b[0m \u001b[0mnew\u001b[0m\u001b[1;33m=\u001b[0m\u001b[0mnew_len\u001b[0m\u001b[1;33m)\u001b[0m\u001b[1;33m\u001b[0m\u001b[1;33m\u001b[0m\u001b[0m\n\u001b[0m\u001b[0;32m    184\u001b[0m             )\n\u001b[0;32m    185\u001b[0m \u001b[1;33m\u001b[0m\u001b[0m\n",
      "\u001b[1;31mValueError\u001b[0m: Length mismatch: Expected axis has 71 elements, new values have 90 elements"
     ]
    }
   ],
   "source": [
    "# Imputation\n",
    "my_imputer = SimpleImputer()\n",
    "imputed_X_train = pd.DataFrame(my_imputer.fit_transform(X_train))\n",
    "imputed_X_valid = pd.DataFrame(my_imputer.transform(X_valid))\n",
    "\n",
    "# Imputation removed column names; put them back\n",
    "imputed_X_train.columns = X_train.columns\n",
    "imputed_X_valid.columns = X_valid.columns\n",
    "\n",
    "print(\"MAE from Approach 2 (Imputation):\")\n",
    "print(score_dataset(imputed_X_train, imputed_X_valid, y_train, y_valid))"
   ]
  },
  {
   "cell_type": "code",
   "execution_count": 56,
   "metadata": {},
   "outputs": [
    {
     "name": "stdout",
     "output_type": "stream",
     "text": [
      "MAE from Approach 3 (An Extension to Imputation):\n",
      "7.701330532212886\n"
     ]
    }
   ],
   "source": [
    "# Make copy to avoid changing original data (when imputing)\n",
    "X_train_plus = X_train.copy()\n",
    "X_valid_plus = X_valid.copy()\n",
    "\n",
    "# Make new columns indicating what will be imputed\n",
    "for col in cols_with_missing:\n",
    "    X_train_plus[col + '_was_missing'] = X_train_plus[col].isnull()\n",
    "    X_valid_plus[col + '_was_missing'] = X_valid_plus[col].isnull()\n",
    "\n",
    "# Imputation\n",
    "my_imputer = SimpleImputer()\n",
    "imputed_X_train_plus = pd.DataFrame(my_imputer.fit_transform(X_train_plus))\n",
    "imputed_X_valid_plus = pd.DataFrame(my_imputer.transform(X_valid_plus))\n",
    "\n",
    "# Imputation removed column names; put them back\n",
    "imputed_X_train_plus.columns = X_train_plus.columns\n",
    "imputed_X_valid_plus.columns = X_valid_plus.columns\n",
    "\n",
    "print(\"MAE from Approach 3 (An Extension to Imputation):\")\n",
    "print(score_dataset(imputed_X_train_plus, imputed_X_valid_plus, y_train, y_valid))\n"
   ]
  },
  {
   "cell_type": "code",
   "execution_count": null,
   "metadata": {},
   "outputs": [],
   "source": []
  }
 ],
 "metadata": {
  "kernelspec": {
   "display_name": "Python 3",
   "language": "python",
   "name": "python3"
  },
  "language_info": {
   "codemirror_mode": {
    "name": "ipython",
    "version": 3
   },
   "file_extension": ".py",
   "mimetype": "text/x-python",
   "name": "python",
   "nbconvert_exporter": "python",
   "pygments_lexer": "ipython3",
   "version": "3.7.4"
  }
 },
 "nbformat": 4,
 "nbformat_minor": 2
}
