{
 "cells": [
  {
   "cell_type": "code",
   "execution_count": 1,
   "metadata": {},
   "outputs": [],
   "source": [
    "import random\n",
    "suits = ('Hearts', 'Diamonds', 'Spades', 'Clubs')\n",
    "ranks = ('Two', 'Three', 'Four', 'Five', 'Six', 'Seven', 'Eight', 'Nine', 'Ten', 'Jack', 'Queen', 'King', 'Ace')\n",
    "values = {'Two':2, 'Three':3, 'Four':4, 'Five':5, 'Six':6, 'Seven':7, 'Eight':8, 'Nine':9, 'Ten':10, 'Jack':11,\n",
    "         'Queen':12, 'King':13, 'Ace':14}"
   ]
  },
  {
   "cell_type": "code",
   "execution_count": 2,
   "metadata": {},
   "outputs": [],
   "source": [
    "class Card:\n",
    "    \n",
    "    def __init__(self,rank,suit):\n",
    "        self.rank = rank\n",
    "        self.suit = suit\n",
    "        self.value = values[rank]\n",
    "    \n",
    "    def __str__(self):\n",
    "        return (f\"{self.rank} of {self.suit}\")"
   ]
  },
  {
   "cell_type": "code",
   "execution_count": 3,
   "metadata": {},
   "outputs": [],
   "source": [
    "two_hearts = Card(\"Two\", \"Hearts\")"
   ]
  },
  {
   "cell_type": "code",
   "execution_count": 4,
   "metadata": {},
   "outputs": [
    {
     "data": {
      "text/plain": [
       "<__main__.Card at 0x1a069b4af88>"
      ]
     },
     "execution_count": 4,
     "metadata": {},
     "output_type": "execute_result"
    }
   ],
   "source": [
    "two_hearts"
   ]
  },
  {
   "cell_type": "code",
   "execution_count": 5,
   "metadata": {},
   "outputs": [
    {
     "name": "stdout",
     "output_type": "stream",
     "text": [
      "Two of Hearts\n"
     ]
    }
   ],
   "source": [
    "print(two_hearts)"
   ]
  },
  {
   "cell_type": "code",
   "execution_count": 6,
   "metadata": {},
   "outputs": [
    {
     "data": {
      "text/plain": [
       "2"
      ]
     },
     "execution_count": 6,
     "metadata": {},
     "output_type": "execute_result"
    }
   ],
   "source": [
    "two_hearts.value"
   ]
  },
  {
   "cell_type": "code",
   "execution_count": 7,
   "metadata": {},
   "outputs": [
    {
     "data": {
      "text/plain": [
       "'Hearts'"
      ]
     },
     "execution_count": 7,
     "metadata": {},
     "output_type": "execute_result"
    }
   ],
   "source": [
    "two_hearts.suit"
   ]
  },
  {
   "cell_type": "code",
   "execution_count": 8,
   "metadata": {},
   "outputs": [
    {
     "data": {
      "text/plain": [
       "'Two'"
      ]
     },
     "execution_count": 8,
     "metadata": {},
     "output_type": "execute_result"
    }
   ],
   "source": [
    "two_hearts.rank"
   ]
  },
  {
   "cell_type": "code",
   "execution_count": 9,
   "metadata": {},
   "outputs": [
    {
     "data": {
      "text/plain": [
       "2"
      ]
     },
     "execution_count": 9,
     "metadata": {},
     "output_type": "execute_result"
    }
   ],
   "source": [
    "values[two_hearts.rank]"
   ]
  },
  {
   "cell_type": "code",
   "execution_count": 10,
   "metadata": {},
   "outputs": [],
   "source": [
    "three_clubs = Card(\"Three\",\"Clubs\")"
   ]
  },
  {
   "cell_type": "code",
   "execution_count": 11,
   "metadata": {},
   "outputs": [
    {
     "data": {
      "text/plain": [
       "'Three'"
      ]
     },
     "execution_count": 11,
     "metadata": {},
     "output_type": "execute_result"
    }
   ],
   "source": [
    "three_clubs.rank"
   ]
  },
  {
   "cell_type": "code",
   "execution_count": 12,
   "metadata": {},
   "outputs": [
    {
     "data": {
      "text/plain": [
       "'Clubs'"
      ]
     },
     "execution_count": 12,
     "metadata": {},
     "output_type": "execute_result"
    }
   ],
   "source": [
    "three_clubs.suit"
   ]
  },
  {
   "cell_type": "code",
   "execution_count": 13,
   "metadata": {},
   "outputs": [
    {
     "data": {
      "text/plain": [
       "3"
      ]
     },
     "execution_count": 13,
     "metadata": {},
     "output_type": "execute_result"
    }
   ],
   "source": [
    "three_clubs.value"
   ]
  },
  {
   "cell_type": "code",
   "execution_count": 14,
   "metadata": {},
   "outputs": [
    {
     "data": {
      "text/plain": [
       "True"
      ]
     },
     "execution_count": 14,
     "metadata": {},
     "output_type": "execute_result"
    }
   ],
   "source": [
    "two_hearts.value < three_clubs.value"
   ]
  },
  {
   "cell_type": "code",
   "execution_count": 15,
   "metadata": {},
   "outputs": [
    {
     "data": {
      "text/plain": [
       "False"
      ]
     },
     "execution_count": 15,
     "metadata": {},
     "output_type": "execute_result"
    }
   ],
   "source": [
    "two_hearts.value == three_clubs.value"
   ]
  },
  {
   "cell_type": "code",
   "execution_count": 16,
   "metadata": {},
   "outputs": [],
   "source": [
    "class Deck:\n",
    "    \n",
    "    def __init__(self):\n",
    "    \n",
    "        self.all_cards = []\n",
    "        \n",
    "        for suit in suits:\n",
    "            for rank in ranks:\n",
    "                created_card = Card(rank,suit)\n",
    "                self.all_cards.append(created_card)\n",
    "    \n",
    "    def shuffle(self):\n",
    "        \n",
    "        random.shuffle(self.all_cards)\n",
    "    \n",
    "    def deal_one(self):\n",
    "        \n",
    "        return self.all_cards.pop()"
   ]
  },
  {
   "cell_type": "code",
   "execution_count": 17,
   "metadata": {},
   "outputs": [],
   "source": [
    "new_deck = Deck()"
   ]
  },
  {
   "cell_type": "code",
   "execution_count": 18,
   "metadata": {},
   "outputs": [],
   "source": [
    "first_card = new_deck.all_cards[0]"
   ]
  },
  {
   "cell_type": "code",
   "execution_count": 19,
   "metadata": {},
   "outputs": [
    {
     "name": "stdout",
     "output_type": "stream",
     "text": [
      "Two of Hearts\n"
     ]
    }
   ],
   "source": [
    "print(first_card)"
   ]
  },
  {
   "cell_type": "code",
   "execution_count": 20,
   "metadata": {},
   "outputs": [
    {
     "name": "stdout",
     "output_type": "stream",
     "text": [
      "Five of Hearts\n"
     ]
    }
   ],
   "source": [
    "print(new_deck.all_cards[3])"
   ]
  },
  {
   "cell_type": "code",
   "execution_count": 21,
   "metadata": {},
   "outputs": [],
   "source": [
    "bottom_card = new_deck.all_cards[-1]"
   ]
  },
  {
   "cell_type": "code",
   "execution_count": 22,
   "metadata": {},
   "outputs": [
    {
     "name": "stdout",
     "output_type": "stream",
     "text": [
      "Ace of Clubs\n"
     ]
    }
   ],
   "source": [
    "print(bottom_card)"
   ]
  },
  {
   "cell_type": "code",
   "execution_count": 23,
   "metadata": {},
   "outputs": [
    {
     "name": "stdout",
     "output_type": "stream",
     "text": [
      "Two of Hearts\n",
      "Three of Hearts\n",
      "Four of Hearts\n",
      "Five of Hearts\n",
      "Six of Hearts\n",
      "Seven of Hearts\n",
      "Eight of Hearts\n",
      "Nine of Hearts\n",
      "Ten of Hearts\n",
      "Jack of Hearts\n",
      "Queen of Hearts\n",
      "King of Hearts\n",
      "Ace of Hearts\n",
      "Two of Diamonds\n",
      "Three of Diamonds\n",
      "Four of Diamonds\n",
      "Five of Diamonds\n",
      "Six of Diamonds\n",
      "Seven of Diamonds\n",
      "Eight of Diamonds\n",
      "Nine of Diamonds\n",
      "Ten of Diamonds\n",
      "Jack of Diamonds\n",
      "Queen of Diamonds\n",
      "King of Diamonds\n",
      "Ace of Diamonds\n",
      "Two of Spades\n",
      "Three of Spades\n",
      "Four of Spades\n",
      "Five of Spades\n",
      "Six of Spades\n",
      "Seven of Spades\n",
      "Eight of Spades\n",
      "Nine of Spades\n",
      "Ten of Spades\n",
      "Jack of Spades\n",
      "Queen of Spades\n",
      "King of Spades\n",
      "Ace of Spades\n",
      "Two of Clubs\n",
      "Three of Clubs\n",
      "Four of Clubs\n",
      "Five of Clubs\n",
      "Six of Clubs\n",
      "Seven of Clubs\n",
      "Eight of Clubs\n",
      "Nine of Clubs\n",
      "Ten of Clubs\n",
      "Jack of Clubs\n",
      "Queen of Clubs\n",
      "King of Clubs\n",
      "Ace of Clubs\n"
     ]
    }
   ],
   "source": [
    "for card_object in new_deck.all_cards:\n",
    "    print(card_object)"
   ]
  },
  {
   "cell_type": "code",
   "execution_count": 24,
   "metadata": {},
   "outputs": [],
   "source": [
    "new_deck.shuffle()"
   ]
  },
  {
   "cell_type": "code",
   "execution_count": 25,
   "metadata": {},
   "outputs": [
    {
     "name": "stdout",
     "output_type": "stream",
     "text": [
      "Two of Diamonds\n",
      "Ace of Diamonds\n",
      "Queen of Clubs\n",
      "Four of Spades\n",
      "Ten of Diamonds\n",
      "Ten of Clubs\n",
      "Ace of Clubs\n",
      "Jack of Spades\n",
      "Six of Clubs\n",
      "Nine of Diamonds\n",
      "King of Hearts\n",
      "Two of Clubs\n",
      "Seven of Diamonds\n",
      "Queen of Hearts\n",
      "Eight of Spades\n",
      "Six of Hearts\n",
      "Jack of Clubs\n",
      "Five of Spades\n",
      "Three of Hearts\n",
      "Eight of Clubs\n",
      "Five of Hearts\n",
      "Nine of Clubs\n",
      "Two of Spades\n",
      "Eight of Hearts\n",
      "Two of Hearts\n",
      "Ace of Hearts\n",
      "Seven of Hearts\n",
      "Four of Hearts\n",
      "Seven of Spades\n",
      "King of Clubs\n",
      "Four of Diamonds\n",
      "Jack of Diamonds\n",
      "Five of Diamonds\n",
      "Queen of Spades\n",
      "Three of Diamonds\n",
      "Seven of Clubs\n",
      "Six of Spades\n",
      "Jack of Hearts\n",
      "Four of Clubs\n",
      "King of Diamonds\n",
      "Eight of Diamonds\n",
      "Queen of Diamonds\n",
      "Ace of Spades\n",
      "Nine of Hearts\n",
      "Nine of Spades\n",
      "Five of Clubs\n",
      "Three of Clubs\n",
      "Ten of Spades\n",
      "Ten of Hearts\n",
      "Three of Spades\n",
      "Six of Diamonds\n",
      "King of Spades\n"
     ]
    }
   ],
   "source": [
    "for card_object in new_deck.all_cards:\n",
    "    print(card_object)"
   ]
  },
  {
   "cell_type": "code",
   "execution_count": 26,
   "metadata": {},
   "outputs": [],
   "source": [
    "my_card = new_deck.deal_one()"
   ]
  },
  {
   "cell_type": "code",
   "execution_count": 27,
   "metadata": {},
   "outputs": [
    {
     "name": "stdout",
     "output_type": "stream",
     "text": [
      "King of Spades\n"
     ]
    }
   ],
   "source": [
    "print(my_card)"
   ]
  },
  {
   "cell_type": "code",
   "execution_count": 28,
   "metadata": {},
   "outputs": [
    {
     "name": "stdout",
     "output_type": "stream",
     "text": [
      "51\n"
     ]
    }
   ],
   "source": [
    "print(len(new_deck.all_cards))"
   ]
  },
  {
   "cell_type": "code",
   "execution_count": 30,
   "metadata": {},
   "outputs": [],
   "source": [
    "class Player():\n",
    "    \n",
    "    def __init__(self,name):\n",
    "        \n",
    "        self.name = name\n",
    "        self.all_cards = []\n",
    "    \n",
    "    def remove_one(self):\n",
    "        return(self.all_cards.pop(0))\n",
    "    \n",
    "    def add_cards(self,new_cards):\n",
    "        if type(new_cards) == type([]):\n",
    "            self.all_cards.extend(new_cards)\n",
    "        else:\n",
    "            self.all_cards.append(new_cards)\n",
    "    \n",
    "    def __str__(self):\n",
    "        return(f'Player {self.name} has {len(self.all_cards)} card(s).')\n",
    "        "
   ]
  },
  {
   "cell_type": "code",
   "execution_count": 31,
   "metadata": {},
   "outputs": [],
   "source": [
    "new_player = Player('Jose')"
   ]
  },
  {
   "cell_type": "code",
   "execution_count": 32,
   "metadata": {},
   "outputs": [
    {
     "name": "stdout",
     "output_type": "stream",
     "text": [
      "Player Jose has 0 card(s).\n"
     ]
    }
   ],
   "source": [
    "print(new_player)"
   ]
  },
  {
   "cell_type": "code",
   "execution_count": 33,
   "metadata": {},
   "outputs": [
    {
     "name": "stdout",
     "output_type": "stream",
     "text": [
      "King of Spades\n"
     ]
    }
   ],
   "source": [
    "print(my_card)"
   ]
  },
  {
   "cell_type": "code",
   "execution_count": 34,
   "metadata": {},
   "outputs": [],
   "source": [
    "new_player.add_cards(my_card)"
   ]
  },
  {
   "cell_type": "code",
   "execution_count": 35,
   "metadata": {},
   "outputs": [
    {
     "name": "stdout",
     "output_type": "stream",
     "text": [
      "Player Jose has 1 card(s).\n"
     ]
    }
   ],
   "source": [
    "print(new_player)"
   ]
  },
  {
   "cell_type": "code",
   "execution_count": 36,
   "metadata": {},
   "outputs": [
    {
     "name": "stdout",
     "output_type": "stream",
     "text": [
      "King of Spades\n"
     ]
    }
   ],
   "source": [
    "print(new_player.all_cards[0])"
   ]
  },
  {
   "cell_type": "code",
   "execution_count": 37,
   "metadata": {},
   "outputs": [],
   "source": [
    "new_player.add_cards([my_card,my_card,my_card])"
   ]
  },
  {
   "cell_type": "code",
   "execution_count": 38,
   "metadata": {},
   "outputs": [
    {
     "name": "stdout",
     "output_type": "stream",
     "text": [
      "Player Jose has 4 card(s).\n"
     ]
    }
   ],
   "source": [
    "print(new_player)"
   ]
  },
  {
   "cell_type": "code",
   "execution_count": 45,
   "metadata": {},
   "outputs": [
    {
     "name": "stdout",
     "output_type": "stream",
     "text": [
      "King of Spades\n",
      "King of Spades\n",
      "King of Spades\n"
     ]
    }
   ],
   "source": [
    "for card in new_player.all_cards:\n",
    "    print(card)"
   ]
  },
  {
   "cell_type": "code",
   "execution_count": 39,
   "metadata": {},
   "outputs": [
    {
     "data": {
      "text/plain": [
       "<__main__.Card at 0x1a069b6d308>"
      ]
     },
     "execution_count": 39,
     "metadata": {},
     "output_type": "execute_result"
    }
   ],
   "source": [
    "new_player.remove_one()"
   ]
  },
  {
   "cell_type": "code",
   "execution_count": 40,
   "metadata": {},
   "outputs": [
    {
     "name": "stdout",
     "output_type": "stream",
     "text": [
      "Player Jose has 3 card(s).\n"
     ]
    }
   ],
   "source": [
    "print(new_player)"
   ]
  },
  {
   "cell_type": "markdown",
   "metadata": {},
   "source": [
    "Game logic:\n",
    "\n",
    "set up players\n",
    "set up deck\n",
    "shuffle deck\n",
    "deal cards\n",
    "start play\n",
    "draw cards and compare\n",
    "go to war?\n",
    "continue til a winner"
   ]
  },
  {
   "cell_type": "code",
   "execution_count": 41,
   "metadata": {},
   "outputs": [],
   "source": [
    "#GAME SETUP\n",
    "player_one = Player(\"One\")\n",
    "player_two = Player(\"Two\")\n",
    "\n",
    "new_deck = Deck()\n",
    "new_deck.shuffle()\n",
    "\n",
    "for x in range(26):\n",
    "    player_one.add_cards(new_deck.deal_one())\n",
    "    player_two.add_cards(new_deck.deal_one())"
   ]
  },
  {
   "cell_type": "code",
   "execution_count": 42,
   "metadata": {},
   "outputs": [],
   "source": [
    "game_on = True"
   ]
  },
  {
   "cell_type": "code",
   "execution_count": 43,
   "metadata": {},
   "outputs": [
    {
     "name": "stdout",
     "output_type": "stream",
     "text": [
      "Round: 1\n",
      "P1: 10\n",
      "P2: 4\n",
      "P1>P2. P1: 25 P2: 25\n",
      "Round: 2\n",
      "P1: 7\n",
      "P2: 12\n",
      "P2>P1. P1: 26 P2: 24\n",
      "Round: 3\n",
      "P1: 6\n",
      "P2: 7\n",
      "P2>P1. P1: 25 P2: 25\n",
      "Round: 4\n",
      "P1: 13\n",
      "P2: 9\n",
      "P1>P2. P1: 24 P2: 26\n",
      "Round: 5\n",
      "P1: 10\n",
      "P2: 6\n",
      "P1>P2. P1: 25 P2: 25\n",
      "Round: 6\n",
      "P1: 14\n",
      "P2: 11\n",
      "P1>P2. P1: 26 P2: 24\n",
      "Round: 7\n",
      "P1: 3\n",
      "P2: 6\n",
      "P2>P1. P1: 27 P2: 23\n",
      "Round: 8\n",
      "P1: 2\n",
      "P2: 7\n",
      "P2>P1. P1: 26 P2: 24\n",
      "Round: 9\n",
      "P1: 14\n",
      "P2: 8\n",
      "P1>P2. P1: 25 P2: 25\n",
      "Round: 10\n",
      "P1: 8\n",
      "P2: 9\n",
      "P2>P1. P1: 26 P2: 24\n",
      "Round: 11\n",
      "P1: 11\n",
      "P2: 13\n",
      "P2>P1. P1: 25 P2: 25\n",
      "Round: 12\n",
      "P1: 9\n",
      "P2: 2\n",
      "P1>P2. P1: 24 P2: 26\n",
      "Round: 13\n",
      "P1: 2\n",
      "P2: 5\n",
      "P2>P1. P1: 25 P2: 25\n",
      "Round: 14\n",
      "P1: 3\n",
      "P2: 7\n",
      "P2>P1. P1: 24 P2: 26\n",
      "Round: 15\n",
      "P1: 12\n",
      "P2: 10\n",
      "P1>P2. P1: 23 P2: 27\n",
      "Round: 16\n",
      "P1: 12\n",
      "P2: 8\n",
      "P1>P2. P1: 24 P2: 26\n",
      "Round: 17\n",
      "P1: 4\n",
      "P2: 13\n",
      "P2>P1. P1: 25 P2: 25\n",
      "Round: 18\n",
      "P1: 4\n",
      "P2: 2\n",
      "P1>P2. P1: 24 P2: 26\n",
      "Round: 19\n",
      "P1: 3\n",
      "P2: 14\n",
      "P2>P1. P1: 25 P2: 25\n",
      "Round: 20\n",
      "P1: 11\n",
      "P2: 14\n",
      "P2>P1. P1: 24 P2: 26\n",
      "Round: 21\n",
      "P1: 12\n",
      "P2: 10\n",
      "P1>P2. P1: 23 P2: 27\n",
      "Round: 22\n",
      "P1: 8\n",
      "P2: 13\n",
      "P2>P1. P1: 24 P2: 26\n",
      "Round: 23\n",
      "P1: 5\n",
      "P2: 11\n",
      "P2>P1. P1: 23 P2: 27\n",
      "Round: 24\n",
      "P1: 9\n",
      "P2: 5\n",
      "P1>P2. P1: 22 P2: 28\n",
      "Round: 25\n",
      "P1: 4\n",
      "P2: 3\n",
      "P1>P2. P1: 23 P2: 27\n",
      "Round: 26\n",
      "P1: 6\n",
      "P2: 5\n",
      "P1>P2. P1: 24 P2: 26\n",
      "Round: 27\n",
      "P1: 10\n",
      "P2: 12\n",
      "P2>P1. P1: 25 P2: 25\n",
      "Round: 28\n",
      "P1: 4\n",
      "P2: 7\n",
      "P2>P1. P1: 24 P2: 26\n",
      "Round: 29\n",
      "P1: 13\n",
      "P2: 7\n",
      "P1>P2. P1: 23 P2: 27\n",
      "Round: 30\n",
      "P1: 9\n",
      "P2: 6\n",
      "P1>P2. P1: 24 P2: 26\n",
      "Round: 31\n",
      "P1: 10\n",
      "P2: 6\n",
      "P1>P2. P1: 25 P2: 25\n",
      "Round: 32\n",
      "P1: 6\n",
      "P2: 3\n",
      "P1>P2. P1: 26 P2: 24\n",
      "Round: 33\n",
      "P1: 14\n",
      "P2: 7\n",
      "P1>P2. P1: 27 P2: 23\n",
      "Round: 34\n",
      "P1: 11\n",
      "P2: 2\n",
      "P1>P2. P1: 28 P2: 22\n",
      "Round: 35\n",
      "P1: 14\n",
      "P2: 9\n",
      "P1>P2. P1: 29 P2: 21\n",
      "Round: 36\n",
      "P1: 8\n",
      "P2: 8\n",
      "WAR!\n",
      "P1>P2. P1: 25 P2: 15\n",
      "Round: 37\n",
      "P1: 8\n",
      "P2: 3\n",
      "P1>P2. P1: 36 P2: 14\n",
      "Round: 38\n",
      "P1: 4\n",
      "P2: 13\n",
      "P2>P1. P1: 37 P2: 13\n",
      "Round: 39\n",
      "P1: 2\n",
      "P2: 4\n",
      "P2>P1. P1: 36 P2: 14\n",
      "Round: 40\n",
      "P1: 12\n",
      "P2: 14\n",
      "P2>P1. P1: 35 P2: 15\n",
      "Round: 41\n",
      "P1: 10\n",
      "P2: 3\n",
      "P1>P2. P1: 34 P2: 16\n",
      "Round: 42\n",
      "P1: 9\n",
      "P2: 14\n",
      "P2>P1. P1: 35 P2: 15\n",
      "Round: 43\n",
      "P1: 5\n",
      "P2: 11\n",
      "P2>P1. P1: 34 P2: 16\n",
      "Round: 44\n",
      "P1: 4\n",
      "P2: 13\n",
      "P2>P1. P1: 33 P2: 17\n",
      "Round: 45\n",
      "P1: 3\n",
      "P2: 8\n",
      "P2>P1. P1: 32 P2: 18\n",
      "Round: 46\n",
      "P1: 6\n",
      "P2: 11\n",
      "P2>P1. P1: 31 P2: 19\n",
      "Round: 47\n",
      "P1: 5\n",
      "P2: 5\n",
      "WAR!\n",
      "P2>P1. P1: 25 P2: 15\n",
      "Round: 48\n",
      "P1: 6\n",
      "P2: 4\n",
      "P1>P2. P1: 24 P2: 26\n",
      "Round: 49\n",
      "P1: 6\n",
      "P2: 4\n",
      "P1>P2. P1: 25 P2: 25\n",
      "Round: 50\n",
      "P1: 3\n",
      "P2: 2\n",
      "P1>P2. P1: 26 P2: 24\n",
      "Round: 51\n",
      "P1: 14\n",
      "P2: 14\n",
      "WAR!\n",
      "P1>P2. P1: 22 P2: 18\n",
      "Round: 52\n",
      "P1: 8\n",
      "P2: 13\n",
      "P2>P1. P1: 33 P2: 17\n",
      "Round: 53\n",
      "P1: 9\n",
      "P2: 4\n",
      "P1>P2. P1: 32 P2: 18\n",
      "Round: 54\n",
      "P1: 2\n",
      "P2: 8\n",
      "P2>P1. P1: 33 P2: 17\n",
      "Round: 55\n",
      "P1: 12\n",
      "P2: 3\n",
      "P1>P2. P1: 32 P2: 18\n",
      "Round: 56\n",
      "P1: 10\n",
      "P2: 11\n",
      "P2>P1. P1: 33 P2: 17\n",
      "Round: 57\n",
      "P1: 12\n",
      "P2: 6\n",
      "P1>P2. P1: 32 P2: 18\n",
      "Round: 58\n",
      "P1: 8\n",
      "P2: 5\n",
      "P1>P2. P1: 33 P2: 17\n",
      "Round: 59\n",
      "P1: 13\n",
      "P2: 12\n",
      "P1>P2. P1: 34 P2: 16\n",
      "Round: 60\n",
      "P1: 11\n",
      "P2: 10\n",
      "P1>P2. P1: 35 P2: 15\n",
      "Round: 61\n",
      "P1: 5\n",
      "P2: 7\n",
      "P2>P1. P1: 36 P2: 14\n",
      "Round: 62\n",
      "P1: 2\n",
      "P2: 4\n",
      "P2>P1. P1: 35 P2: 15\n",
      "Round: 63\n",
      "P1: 7\n",
      "P2: 13\n",
      "P2>P1. P1: 34 P2: 16\n",
      "Round: 64\n",
      "P1: 8\n",
      "P2: 5\n",
      "P1>P2. P1: 33 P2: 17\n",
      "Round: 65\n",
      "P1: 3\n",
      "P2: 13\n",
      "P2>P1. P1: 34 P2: 16\n",
      "Round: 66\n",
      "P1: 10\n",
      "P2: 7\n",
      "P1>P2. P1: 33 P2: 17\n",
      "Round: 67\n",
      "P1: 3\n",
      "P2: 9\n",
      "P2>P1. P1: 34 P2: 16\n",
      "Round: 68\n",
      "P1: 6\n",
      "P2: 6\n",
      "WAR!\n",
      "WAR!\n",
      "P1>P2. P1: 23 P2: 7\n",
      "Round: 69\n",
      "P1: 9\n",
      "P2: 2\n",
      "P1>P2. P1: 44 P2: 6\n",
      "Round: 70\n",
      "P1: 14\n",
      "P2: 13\n",
      "P1>P2. P1: 45 P2: 5\n",
      "Round: 71\n",
      "P1: 12\n",
      "P2: 7\n",
      "P1>P2. P1: 46 P2: 4\n",
      "Round: 72\n",
      "P1: 14\n",
      "P2: 13\n",
      "P1>P2. P1: 47 P2: 3\n",
      "Round: 73\n",
      "P1: 9\n",
      "P2: 3\n",
      "P1>P2. P1: 48 P2: 2\n",
      "Round: 74\n",
      "P1: 11\n",
      "P2: 9\n",
      "P1>P2. P1: 49 P2: 1\n",
      "Round: 75\n",
      "P1: 5\n",
      "P2: 3\n",
      "P1>P2. P1: 50 P2: 0\n",
      "Round: 76\n",
      "Player Two, out of cards! Player One Wins!\n"
     ]
    }
   ],
   "source": [
    "round_num = 0\n",
    "\n",
    "while game_on:\n",
    "    \n",
    "    round_num +=1\n",
    "    print(f'Round: {round_num}')\n",
    "    \n",
    "    if len(player_one.all_cards) == 0:\n",
    "        print(\"Player One, out of cards! Player Two Wins!\")\n",
    "        game_on = False\n",
    "        break\n",
    "        \n",
    "    if len(player_two.all_cards) == 0:\n",
    "        print(\"Player Two, out of cards! Player One Wins!\")\n",
    "        game_on = False\n",
    "        break\n",
    "\n",
    "    #START A NEW ROUND\n",
    "    player_one_cards = []\n",
    "    player_one_cards.append(player_one.remove_one())\n",
    "    print(f'P1: {player_one_cards[-1].value}')\n",
    "    \n",
    "    player_two_cards = []\n",
    "    player_two_cards.append(player_two.remove_one())\n",
    "    print(f'P2: {player_two_cards[-1].value}')\n",
    "    \n",
    "    #while at_war\n",
    "    at_war = True\n",
    "    \n",
    "    while at_war:\n",
    "        \n",
    "        if player_one_cards[-1].value > player_two_cards[-1].value:\n",
    "            \n",
    "            print(f\"P1>P2. P1: {len(player_one.all_cards)} P2: {len(player_two.all_cards)}\")\n",
    "            player_one.add_cards(player_one_cards)\n",
    "            player_one.add_cards(player_two_cards)\n",
    "            \n",
    "            at_war = False\n",
    "            \n",
    "        elif player_one_cards[-1].value < player_two_cards[-1].value: \n",
    "            \n",
    "            print(f\"P2>P1. P1: {len(player_one.all_cards)} P2: {len(player_two.all_cards)}\")\n",
    "            player_two.add_cards(player_two_cards)\n",
    "            player_two.add_cards(player_one_cards)\n",
    "            \n",
    "            at_war = False\n",
    "        \n",
    "        else:\n",
    "            print(\"WAR!\")\n",
    "            \n",
    "            if(len(player_one.all_cards)) < 5:\n",
    "                print(\"Player One unable to declare war\")\n",
    "                print(\"PLAYER TWO WINS!\")\n",
    "                game_on = False\n",
    "                break\n",
    "                \n",
    "            elif(len(player_two.all_cards)) < 5:\n",
    "                print(\"Player Two unable to declare war\")\n",
    "                print(\"PLAYER ONE WINS!\")\n",
    "                game_on = False\n",
    "                break\n",
    "                \n",
    "            else:\n",
    "                for num in range(5):\n",
    "                    player_one_cards.append(player_one.remove_one())\n",
    "                    player_two_cards.append(player_two.remove_one())\n",
    "                    \n",
    "                    \n",
    "\n",
    "                \n",
    "                \n",
    "            "
   ]
  }
 ],
 "metadata": {
  "kernelspec": {
   "display_name": "Python 3",
   "language": "python",
   "name": "python3"
  },
  "language_info": {
   "codemirror_mode": {
    "name": "ipython",
    "version": 3
   },
   "file_extension": ".py",
   "mimetype": "text/x-python",
   "name": "python",
   "nbconvert_exporter": "python",
   "pygments_lexer": "ipython3",
   "version": "3.7.4"
  }
 },
 "nbformat": 4,
 "nbformat_minor": 2
}
