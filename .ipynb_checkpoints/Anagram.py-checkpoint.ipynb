{
 "cells": [
  {
   "cell_type": "code",
   "execution_count": null,
   "metadata": {},
   "outputs": [],
   "source": [
    "class Solution:\n",
    "       def groupAnagrams(self, strs):\n",
    "      result = {}\n",
    "      for i in strs:\n",
    "         x = \"\".join(sorted())\n",
    "         if x in result:\n",
    "            result[x].append(i)\n",
    "         else:\n",
    "            result[x] = [i]\n",
    "      return list(result.values())\n",
    "ob1 = Solution()\n",
    "print(ob1.groupAnagrams([\"eat\", \"tea\", \"tan\", \"ate\", \"nat\", \"bat\"]))"
   ]
  },
  {
   "cell_type": "code",
   "execution_count": 3,
   "metadata": {},
   "outputs": [],
   "source": [
    "strs = [\"eat\",\"tea\",\"tan\",\"ate\",\"nat\",\"bat\"]"
   ]
  },
  {
   "cell_type": "code",
   "execution_count": 2,
   "metadata": {},
   "outputs": [],
   "source": [
    "#Output: [[\"bat\"],[\"nat\",\"tan\"],[\"ate\",\"eat\",\"tea\"]]"
   ]
  },
  {
   "cell_type": "code",
   "execution_count": 26,
   "metadata": {},
   "outputs": [
    {
     "name": "stdout",
     "output_type": "stream",
     "text": [
      "eat aet\n",
      "tea aet\n",
      "tan ant\n",
      "ate aet\n",
      "nat ant\n",
      "bat abt\n",
      "[['eat', 'tea', 'ate'], ['tan', 'nat'], ['bat']]\n"
     ]
    }
   ],
   "source": [
    "class Solution:\n",
    "    def groupAnagrams(self, strs):\n",
    "        result = {}\n",
    "        for i in strs:\n",
    "            x = \"\".join(sorted(i))\n",
    "            print(i,  x)\n",
    "            if x in result:\n",
    "                result[x].append(i)\n",
    "            else:\n",
    "                result[x] = [i]\n",
    "        return list(result.values())\n",
    "ob1 = Solution()\n",
    "print(ob1.groupAnagrams([\"eat\", \"tea\", \"tan\", \"ate\", \"nat\", \"bat\"]))"
   ]
  },
  {
   "cell_type": "code",
   "execution_count": 6,
   "metadata": {},
   "outputs": [],
   "source": [
    "#1 class Solution:\n",
    "#2       def groupAnagrams(self, strs):\n",
    "#3       result = {}\n",
    "#4      for i in strs:\n",
    "#5         x = \"\".join(sorted())\n",
    "#6         if x in result:\n",
    "#7            result[x].append(i)\n",
    "#8         else:\n",
    "#9            result[x] = [i]\n",
    "#10      return list(result.values())\n",
    "#11ob1 = Solution()\n",
    "#12print(ob1.groupAnagrams([\"eat\", \"tea\", \"tan\", \"ate\", \"nat\", \"bat\"]))"
   ]
  },
  {
   "cell_type": "markdown",
   "metadata": {},
   "source": [
    "Firstly, well done for completing this exercise! \n",
    "\n",
    "I have some comments based on various criteria.\n",
    "\n",
    "Correctness:\n",
    "There is a small mistake in the code in line 5. The function \"sorted()\" should be passed the argument \"i\" so that it can sort the characters in the string. e.g. x = \"\".join(sorted(i)). Other than that, the rest of the code works well.\n",
    "\n",
    "Efficiency:\n",
    "Your code is efficient and to the point, well done.\n",
    "\n",
    "Style:\n",
    "There were some inconsistencies with indentation. It is best practice to use 4 spaces, rather than a tab, to show an indent in Python. \n",
    "\n",
    "Line 2 has 7 spaces before \"def\" which should be 4 spaces to show that the definition is part of the class.\n",
    "Line 3 and 4 have 6 spaces which should be 8 spaces to show that these lines are part of the definition. \n",
    "Lines 5 to 9: have one too mnany spaces each.\n",
    "Line 10 has 6 spaces before \"return\" but it should be 8 spaces.\n",
    "\n",
    "Documentation:\n",
    "It is best practice to include a docstring when defining a function to explain what it does, the arguments needed and what it returns.\n",
    "\n",
    "You have done a good job with answering this question. All the best with your coding journey!\n",
    "\n",
    "\n",
    "\n"
   ]
  }
 ],
 "metadata": {
  "kernelspec": {
   "display_name": "Python 3",
   "language": "python",
   "name": "python3"
  },
  "language_info": {
   "codemirror_mode": {
    "name": "ipython",
    "version": 3
   },
   "file_extension": ".py",
   "mimetype": "text/x-python",
   "name": "python",
   "nbconvert_exporter": "python",
   "pygments_lexer": "ipython3",
   "version": "3.7.4"
  }
 },
 "nbformat": 4,
 "nbformat_minor": 2
}
